{
 "cells": [
  {
   "cell_type": "markdown",
   "metadata": {
    "collapsed": true
   },
   "source": [
    "### Get session info"
   ]
  },
  {
   "cell_type": "code",
   "execution_count": 1,
   "metadata": {},
   "outputs": [],
   "source": [
    "date = '200618'\n",
    "larvaID = 'Larva_1'\n",
    "genoType = 'RC57C10-GAL4 x UAS-GCaMP7f'\n",
    "sensor = 'GCaMP7f'\n",
    "robotID = 298\n",
    "fov = 'FOV2'\n",
    "side = 'R'\n",
    "segment = 'A5'\n",
    "muscleNo = 13\n",
    "laserPower = 50 # Do not use \"power\" as variable as it will conflict with pylab\n",
    "motherLine = 'RC57C10-GAL4'\n",
    "motherLineLandingSite = 'To be updated' ## Need to check!!\n",
    "imgPath = '/Volumes/genie/Jihong_GENIE_stuff/NMJ/uf-GCaMP/'\n",
    "# imgPath = '/Users/zhengj10/Desktop/data/'"
   ]
  },
  {
   "cell_type": "markdown",
   "metadata": {},
   "source": [
    "### import modules"
   ]
  },
  {
   "cell_type": "code",
   "execution_count": 2,
   "metadata": {},
   "outputs": [],
   "source": [
    "import os\n",
    "import numpy as np\n",
    "import pandas as pd\n",
    "from read_roi import read_roi_zip\n"
   ]
  },
  {
   "cell_type": "code",
   "execution_count": 3,
   "metadata": {},
   "outputs": [
    {
     "data": {
      "text/html": [
       "<div>\n",
       "<style scoped>\n",
       "    .dataframe tbody tr th:only-of-type {\n",
       "        vertical-align: middle;\n",
       "    }\n",
       "\n",
       "    .dataframe tbody tr th {\n",
       "        vertical-align: top;\n",
       "    }\n",
       "\n",
       "    .dataframe thead th {\n",
       "        text-align: right;\n",
       "    }\n",
       "</style>\n",
       "<table border=\"1\" class=\"dataframe\">\n",
       "  <thead>\n",
       "    <tr style=\"text-align: right;\">\n",
       "      <th></th>\n",
       "      <th>Construct_name</th>\n",
       "      <th>Construct_ID</th>\n",
       "      <th>Landing_site</th>\n",
       "      <th>Robot_ID</th>\n",
       "    </tr>\n",
       "  </thead>\n",
       "  <tbody>\n",
       "    <tr>\n",
       "      <th>1</th>\n",
       "      <td>UAS - p10.551.456</td>\n",
       "      <td>To be updated</td>\n",
       "      <td>VK00005</td>\n",
       "      <td>3038499</td>\n",
       "    </tr>\n",
       "    <tr>\n",
       "      <th>2</th>\n",
       "      <td>UAS - p10.551.455</td>\n",
       "      <td>To be updated</td>\n",
       "      <td>VK00005</td>\n",
       "      <td>3038498</td>\n",
       "    </tr>\n",
       "    <tr>\n",
       "      <th>3</th>\n",
       "      <td>UAS - p10.349.921</td>\n",
       "      <td>To be updated</td>\n",
       "      <td>VK00005</td>\n",
       "      <td>298</td>\n",
       "    </tr>\n",
       "  </tbody>\n",
       "</table>\n",
       "</div>"
      ],
      "text/plain": [
       "      Construct_name   Construct_ID Landing_site  Robot_ID\n",
       "1  UAS - p10.551.456  To be updated      VK00005   3038499\n",
       "2  UAS - p10.551.455  To be updated      VK00005   3038498\n",
       "3  UAS - p10.349.921  To be updated      VK00005       298"
      ]
     },
     "execution_count": 3,
     "metadata": {},
     "output_type": "execute_result"
    }
   ],
   "source": [
    "flyInfo = pd.read_excel(imgPath + 'flyInfo_uf-GCaMP.xlsx')\n",
    "# flyInfo.Robot_ID = flyInfo.Robot_ID.astype(int)\n",
    "flyInfo.index = np.arange(1, len(flyInfo)+1)\n",
    "flyInfo\n"
   ]
  },
  {
   "cell_type": "markdown",
   "metadata": {},
   "source": [
    "### Get no. of buttons"
   ]
  },
  {
   "cell_type": "code",
   "execution_count": 4,
   "metadata": {},
   "outputs": [
    {
     "name": "stdout",
     "output_type": "stream",
     "text": [
      "No of buttons (does not include Fb): 3\n"
     ]
    }
   ],
   "source": [
    "roiList = read_roi_zip(imgPath + date + '/' + larvaID + '/' + fov + '/summary/RoiSet.zip')\n",
    "noBoutons = len(roiList)-1\n",
    "print ('No of buttons (does not include Fb): %d' %noBoutons)\n"
   ]
  },
  {
   "cell_type": "markdown",
   "metadata": {},
   "source": [
    "### Pull out father line info with Robot ID"
   ]
  },
  {
   "cell_type": "code",
   "execution_count": 5,
   "metadata": {},
   "outputs": [],
   "source": [
    "fatherLine = flyInfo.loc[flyInfo['Robot_ID'] == robotID, 'Construct_name'].values[0]\n",
    "fatherLineLandingSite = flyInfo.loc[flyInfo['Robot_ID'] == robotID, 'Landing_site'].values[0]\n"
   ]
  },
  {
   "cell_type": "markdown",
   "metadata": {},
   "source": [
    "### Append new session to existing data"
   ]
  },
  {
   "cell_type": "code",
   "execution_count": 6,
   "metadata": {},
   "outputs": [],
   "source": [
    "sessionInfo = {\n",
    "               u'Date': date,\n",
    "               u'Larva_ID': larvaID,\n",
    "               u'GenoType': genoType,\n",
    "               u'Sensor': sensor,\n",
    "               u'Gender': 'F',\n",
    "               u'FOV_ID': fov,\n",
    "               u'Side': side,\n",
    "               u'Segment': segment,\n",
    "               u'Muscle_No': muscleNo,\n",
    "               u'No_boutons': noBoutons, \n",
    "               u'Power': laserPower, \n",
    "               u'Mother_line': motherLine,\n",
    "               u'Mother_line_landing_site': motherLineLandingSite,\n",
    "               u'Father_line': fatherLine,\n",
    "               u'Father_line_Robot_ID': robotID,\n",
    "               u'Father_line_landing_site': fatherLineLandingSite\n",
    "              }\n"
   ]
  },
  {
   "cell_type": "code",
   "execution_count": 7,
   "metadata": {
    "scrolled": false
   },
   "outputs": [
    {
     "data": {
      "text/html": [
       "<div>\n",
       "<style scoped>\n",
       "    .dataframe tbody tr th:only-of-type {\n",
       "        vertical-align: middle;\n",
       "    }\n",
       "\n",
       "    .dataframe tbody tr th {\n",
       "        vertical-align: top;\n",
       "    }\n",
       "\n",
       "    .dataframe thead th {\n",
       "        text-align: right;\n",
       "    }\n",
       "</style>\n",
       "<table border=\"1\" class=\"dataframe\">\n",
       "  <thead>\n",
       "    <tr style=\"text-align: right;\">\n",
       "      <th></th>\n",
       "      <th>Date</th>\n",
       "      <th>Larva_ID</th>\n",
       "      <th>GenoType</th>\n",
       "      <th>Sensor</th>\n",
       "      <th>Gender</th>\n",
       "      <th>FOV_ID</th>\n",
       "      <th>Side</th>\n",
       "      <th>Segment</th>\n",
       "      <th>Muscle_No</th>\n",
       "      <th>No_boutons</th>\n",
       "      <th>Power</th>\n",
       "      <th>Mother_line</th>\n",
       "      <th>Mother_line_landing_site</th>\n",
       "      <th>Father_line</th>\n",
       "      <th>Father_line_Robot_ID</th>\n",
       "      <th>Father_line_landing_site</th>\n",
       "    </tr>\n",
       "  </thead>\n",
       "  <tbody>\n",
       "    <tr>\n",
       "      <th>1</th>\n",
       "      <td>200619</td>\n",
       "      <td>Larva_1</td>\n",
       "      <td>RC57C10-GAL4 x UAS-GCaMP456</td>\n",
       "      <td>GCaMP456</td>\n",
       "      <td>F</td>\n",
       "      <td>FOV1</td>\n",
       "      <td>L</td>\n",
       "      <td>A4</td>\n",
       "      <td>13</td>\n",
       "      <td>1</td>\n",
       "      <td>70</td>\n",
       "      <td>RC57C10-GAL4</td>\n",
       "      <td>To be updated</td>\n",
       "      <td>UAS - p10.551.456</td>\n",
       "      <td>3038499</td>\n",
       "      <td>VK00005</td>\n",
       "    </tr>\n",
       "    <tr>\n",
       "      <th>2</th>\n",
       "      <td>200619</td>\n",
       "      <td>Larva_1</td>\n",
       "      <td>RC57C10-GAL4 x UAS-GCaMP456</td>\n",
       "      <td>GCaMP456</td>\n",
       "      <td>F</td>\n",
       "      <td>FOV2</td>\n",
       "      <td>L</td>\n",
       "      <td>A5</td>\n",
       "      <td>13</td>\n",
       "      <td>2</td>\n",
       "      <td>70</td>\n",
       "      <td>RC57C10-GAL4</td>\n",
       "      <td>To be updated</td>\n",
       "      <td>UAS - p10.551.456</td>\n",
       "      <td>3038499</td>\n",
       "      <td>VK00005</td>\n",
       "    </tr>\n",
       "    <tr>\n",
       "      <th>3</th>\n",
       "      <td>200619</td>\n",
       "      <td>Larva_2</td>\n",
       "      <td>RC57C10-GAL4 x UAS-GCaMP456</td>\n",
       "      <td>GCaMP456</td>\n",
       "      <td>F</td>\n",
       "      <td>FOV1</td>\n",
       "      <td>L</td>\n",
       "      <td>A4</td>\n",
       "      <td>13</td>\n",
       "      <td>7</td>\n",
       "      <td>70</td>\n",
       "      <td>RC57C10-GAL4</td>\n",
       "      <td>To be updated</td>\n",
       "      <td>UAS - p10.551.456</td>\n",
       "      <td>3038499</td>\n",
       "      <td>VK00005</td>\n",
       "    </tr>\n",
       "    <tr>\n",
       "      <th>4</th>\n",
       "      <td>200619</td>\n",
       "      <td>Larva_3</td>\n",
       "      <td>RC57C10-GAL4 x UAS-GCaMP7f</td>\n",
       "      <td>GCaMP7f</td>\n",
       "      <td>F</td>\n",
       "      <td>FOV1</td>\n",
       "      <td>L</td>\n",
       "      <td>A4</td>\n",
       "      <td>13</td>\n",
       "      <td>3</td>\n",
       "      <td>70</td>\n",
       "      <td>RC57C10-GAL4</td>\n",
       "      <td>To be updated</td>\n",
       "      <td>UAS - p10.349.921</td>\n",
       "      <td>298</td>\n",
       "      <td>VK00005</td>\n",
       "    </tr>\n",
       "    <tr>\n",
       "      <th>5</th>\n",
       "      <td>200622</td>\n",
       "      <td>Larva_1</td>\n",
       "      <td>RC57C10-GAL4 x UAS-GCaMP455</td>\n",
       "      <td>GCaMP455</td>\n",
       "      <td>F</td>\n",
       "      <td>FOV1</td>\n",
       "      <td>L</td>\n",
       "      <td>A5</td>\n",
       "      <td>13</td>\n",
       "      <td>7</td>\n",
       "      <td>70</td>\n",
       "      <td>RC57C10-GAL4</td>\n",
       "      <td>To be updated</td>\n",
       "      <td>UAS - p10.551.455</td>\n",
       "      <td>3038498</td>\n",
       "      <td>VK00005</td>\n",
       "    </tr>\n",
       "    <tr>\n",
       "      <th>6</th>\n",
       "      <td>200622</td>\n",
       "      <td>Larva_1</td>\n",
       "      <td>RC57C10-GAL4 x UAS-GCaMP455</td>\n",
       "      <td>GCaMP455</td>\n",
       "      <td>F</td>\n",
       "      <td>FOV2</td>\n",
       "      <td>L</td>\n",
       "      <td>A4</td>\n",
       "      <td>13</td>\n",
       "      <td>3</td>\n",
       "      <td>70</td>\n",
       "      <td>RC57C10-GAL4</td>\n",
       "      <td>To be updated</td>\n",
       "      <td>UAS - p10.551.455</td>\n",
       "      <td>3038498</td>\n",
       "      <td>VK00005</td>\n",
       "    </tr>\n",
       "    <tr>\n",
       "      <th>7</th>\n",
       "      <td>200618</td>\n",
       "      <td>Larva_1</td>\n",
       "      <td>RC57C10-GAL4 x UAS-GCaMP7f</td>\n",
       "      <td>GCaMP7f</td>\n",
       "      <td>F</td>\n",
       "      <td>FOV1</td>\n",
       "      <td>L</td>\n",
       "      <td>A5</td>\n",
       "      <td>13</td>\n",
       "      <td>2</td>\n",
       "      <td>50</td>\n",
       "      <td>RC57C10-GAL4</td>\n",
       "      <td>To be updated</td>\n",
       "      <td>UAS - p10.349.921</td>\n",
       "      <td>298</td>\n",
       "      <td>VK00005</td>\n",
       "    </tr>\n",
       "    <tr>\n",
       "      <th>8</th>\n",
       "      <td>200618</td>\n",
       "      <td>Larva_1</td>\n",
       "      <td>RC57C10-GAL4 x UAS-GCaMP7f</td>\n",
       "      <td>GCaMP7f</td>\n",
       "      <td>F</td>\n",
       "      <td>FOV2</td>\n",
       "      <td>R</td>\n",
       "      <td>A5</td>\n",
       "      <td>13</td>\n",
       "      <td>3</td>\n",
       "      <td>50</td>\n",
       "      <td>RC57C10-GAL4</td>\n",
       "      <td>To be updated</td>\n",
       "      <td>UAS - p10.349.921</td>\n",
       "      <td>298</td>\n",
       "      <td>VK00005</td>\n",
       "    </tr>\n",
       "  </tbody>\n",
       "</table>\n",
       "</div>"
      ],
      "text/plain": [
       "     Date Larva_ID                     GenoType    Sensor Gender FOV_ID Side  \\\n",
       "1  200619  Larva_1  RC57C10-GAL4 x UAS-GCaMP456  GCaMP456      F   FOV1    L   \n",
       "2  200619  Larva_1  RC57C10-GAL4 x UAS-GCaMP456  GCaMP456      F   FOV2    L   \n",
       "3  200619  Larva_2  RC57C10-GAL4 x UAS-GCaMP456  GCaMP456      F   FOV1    L   \n",
       "4  200619  Larva_3   RC57C10-GAL4 x UAS-GCaMP7f   GCaMP7f      F   FOV1    L   \n",
       "5  200622  Larva_1  RC57C10-GAL4 x UAS-GCaMP455  GCaMP455      F   FOV1    L   \n",
       "6  200622  Larva_1  RC57C10-GAL4 x UAS-GCaMP455  GCaMP455      F   FOV2    L   \n",
       "7  200618  Larva_1   RC57C10-GAL4 x UAS-GCaMP7f   GCaMP7f      F   FOV1    L   \n",
       "8  200618  Larva_1   RC57C10-GAL4 x UAS-GCaMP7f   GCaMP7f      F   FOV2    R   \n",
       "\n",
       "  Segment  Muscle_No  No_boutons  Power   Mother_line  \\\n",
       "1      A4         13           1     70  RC57C10-GAL4   \n",
       "2      A5         13           2     70  RC57C10-GAL4   \n",
       "3      A4         13           7     70  RC57C10-GAL4   \n",
       "4      A4         13           3     70  RC57C10-GAL4   \n",
       "5      A5         13           7     70  RC57C10-GAL4   \n",
       "6      A4         13           3     70  RC57C10-GAL4   \n",
       "7      A5         13           2     50  RC57C10-GAL4   \n",
       "8      A5         13           3     50  RC57C10-GAL4   \n",
       "\n",
       "  Mother_line_landing_site        Father_line  Father_line_Robot_ID  \\\n",
       "1            To be updated  UAS - p10.551.456               3038499   \n",
       "2            To be updated  UAS - p10.551.456               3038499   \n",
       "3            To be updated  UAS - p10.551.456               3038499   \n",
       "4            To be updated  UAS - p10.349.921                   298   \n",
       "5            To be updated  UAS - p10.551.455               3038498   \n",
       "6            To be updated  UAS - p10.551.455               3038498   \n",
       "7            To be updated  UAS - p10.349.921                   298   \n",
       "8            To be updated  UAS - p10.349.921                   298   \n",
       "\n",
       "  Father_line_landing_site  \n",
       "1                  VK00005  \n",
       "2                  VK00005  \n",
       "3                  VK00005  \n",
       "4                  VK00005  \n",
       "5                  VK00005  \n",
       "6                  VK00005  \n",
       "7                  VK00005  \n",
       "8                  VK00005  "
      ]
     },
     "execution_count": 7,
     "metadata": {},
     "output_type": "execute_result"
    }
   ],
   "source": [
    "df = pd.read_excel(imgPath + 'summary_uf-GCaMP_1-320Hz.xlsx', index_col = 0)\n",
    "df_new = pd.DataFrame(sessionInfo, columns = list(df), index = ['i',]) # columns specification keep the order of columns; index specification makes sure dict keys are the columns \n",
    "df = df.append(df_new, ignore_index = True)\n",
    "df.index = np.arange(1, len(df)+1)\n",
    "df\n"
   ]
  },
  {
   "cell_type": "code",
   "execution_count": 8,
   "metadata": {},
   "outputs": [],
   "source": [
    "checked = True\n",
    "if checked:\n",
    "    df.to_excel(imgPath + 'summary_uf-GCaMP_1-320Hz.xlsx')\n",
    "    "
   ]
  },
  {
   "cell_type": "code",
   "execution_count": null,
   "metadata": {
    "scrolled": false
   },
   "outputs": [],
   "source": [
    "# pd.read_excel(imgPath + 'summary_uf-GCaMP_1-320Hz.xlsx')\n"
   ]
  },
  {
   "cell_type": "markdown",
   "metadata": {},
   "source": [
    "### In case the input is wrong and need to re-append:"
   ]
  },
  {
   "cell_type": "code",
   "execution_count": null,
   "metadata": {
    "scrolled": false
   },
   "outputs": [],
   "source": [
    "df = pd.read_excel(imgPath + 'summary_uf-GCaMP_1-320Hz.xlsx', index_col = 0)\n",
    "idx = len(df)\n",
    "df = df.drop(idx)\n",
    "df.to_excel(imgPath + 'summary_uf-GCaMP_1-320Hz.xlsx')\n",
    "df\n"
   ]
  },
  {
   "cell_type": "code",
   "execution_count": null,
   "metadata": {},
   "outputs": [],
   "source": []
  },
  {
   "cell_type": "code",
   "execution_count": null,
   "metadata": {},
   "outputs": [],
   "source": []
  }
 ],
 "metadata": {
  "kernelspec": {
   "display_name": "Python 3",
   "language": "python",
   "name": "python3"
  },
  "language_info": {
   "codemirror_mode": {
    "name": "ipython",
    "version": 3
   },
   "file_extension": ".py",
   "mimetype": "text/x-python",
   "name": "python",
   "nbconvert_exporter": "python",
   "pygments_lexer": "ipython3",
   "version": "3.7.6"
  }
 },
 "nbformat": 4,
 "nbformat_minor": 1
}
