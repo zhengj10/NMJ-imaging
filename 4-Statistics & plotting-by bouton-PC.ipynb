{
 "cells": [
  {
   "cell_type": "markdown",
   "metadata": {
    "collapsed": true
   },
   "source": [
    "### Get session info"
   ]
  },
  {
   "cell_type": "code",
   "execution_count": 1,
   "metadata": {},
   "outputs": [],
   "source": [
    "imgPath = '/Volumes/genie/Jihong_GENIE_stuff/NMJ_imaging/uf-GCaMP/'\n",
    "# imgPath = 'Y:\\\\/NMJ_imaging\\\\uf-GCaMP\\\\'\n",
    "# imgPath = '/Users/zhengj10/Desktop/Recent data/NMJ/ufGCaMP/'\n",
    "params = {\n",
    "          'frameInterval': 128.5,\n",
    "          'shutterCloseFrames': 0, # No. of frames before shutter open\n",
    "          'truncatedFrames': 290,    # No. of frames to be further deleted for rendering 1s baseline in plot\n",
    "          'stimStart': 3527.8       # Time (in ms) when electrical stimulation is delivered\n",
    "         }\n"
   ]
  },
  {
   "cell_type": "markdown",
   "metadata": {},
   "source": [
    "### Import modules"
   ]
  },
  {
   "cell_type": "code",
   "execution_count": 2,
   "metadata": {},
   "outputs": [],
   "source": [
    "%matplotlib inline\n",
    "import matplotlib.pyplot as plt\n",
    "import os\n",
    "import numpy as np\n",
    "import pandas as pd\n",
    "import scipy.io as sio\n"
   ]
  },
  {
   "cell_type": "markdown",
   "metadata": {},
   "source": [
    "### Data sorting"
   ]
  },
  {
   "cell_type": "code",
   "execution_count": 3,
   "metadata": {},
   "outputs": [
    {
     "data": {
      "text/html": [
       "<div>\n",
       "<style scoped>\n",
       "    .dataframe tbody tr th:only-of-type {\n",
       "        vertical-align: middle;\n",
       "    }\n",
       "\n",
       "    .dataframe tbody tr th {\n",
       "        vertical-align: top;\n",
       "    }\n",
       "\n",
       "    .dataframe thead th {\n",
       "        text-align: right;\n",
       "    }\n",
       "</style>\n",
       "<table border=\"1\" class=\"dataframe\">\n",
       "  <thead>\n",
       "    <tr style=\"text-align: right;\">\n",
       "      <th></th>\n",
       "      <th>sensors</th>\n",
       "      <th>F0_all_boutons</th>\n",
       "      <th>F0_minus_Fb_all_boutons</th>\n",
       "    </tr>\n",
       "  </thead>\n",
       "  <tbody>\n",
       "    <tr>\n",
       "      <th>0</th>\n",
       "      <td>GCaMP456</td>\n",
       "      <td>189.02...</td>\n",
       "      <td>22.394425</td>\n",
       "    </tr>\n",
       "    <tr>\n",
       "      <th>1</th>\n",
       "      <td>GCaMP456</td>\n",
       "      <td>195.44...</td>\n",
       "      <td>28.813279</td>\n",
       "    </tr>\n",
       "    <tr>\n",
       "      <th>2</th>\n",
       "      <td>GCaMP456</td>\n",
       "      <td>190.88...</td>\n",
       "      <td>24.251915</td>\n",
       "    </tr>\n",
       "    <tr>\n",
       "      <th>3</th>\n",
       "      <td>GCaMP456</td>\n",
       "      <td>190.30...</td>\n",
       "      <td>23.672848</td>\n",
       "    </tr>\n",
       "    <tr>\n",
       "      <th>4</th>\n",
       "      <td>GCaMP456</td>\n",
       "      <td>200.94...</td>\n",
       "      <td>34.310804</td>\n",
       "    </tr>\n",
       "    <tr>\n",
       "      <th>...</th>\n",
       "      <td>...</td>\n",
       "      <td>...</td>\n",
       "      <td>...</td>\n",
       "    </tr>\n",
       "    <tr>\n",
       "      <th>161</th>\n",
       "      <td>GCaMP688</td>\n",
       "      <td>190.17...</td>\n",
       "      <td>45.052613</td>\n",
       "    </tr>\n",
       "    <tr>\n",
       "      <th>162</th>\n",
       "      <td>GCaMP686</td>\n",
       "      <td>186.40...</td>\n",
       "      <td>31.141536</td>\n",
       "    </tr>\n",
       "    <tr>\n",
       "      <th>163</th>\n",
       "      <td>GCaMP686</td>\n",
       "      <td>186.44...</td>\n",
       "      <td>31.182847</td>\n",
       "    </tr>\n",
       "    <tr>\n",
       "      <th>164</th>\n",
       "      <td>GCaMP686</td>\n",
       "      <td>201.38...</td>\n",
       "      <td>46.118690</td>\n",
       "    </tr>\n",
       "    <tr>\n",
       "      <th>165</th>\n",
       "      <td>GCaMP686</td>\n",
       "      <td>188.31...</td>\n",
       "      <td>33.053566</td>\n",
       "    </tr>\n",
       "  </tbody>\n",
       "</table>\n",
       "<p>166 rows × 3 columns</p>\n",
       "</div>"
      ],
      "text/plain": [
       "      sensors  F0_all_boutons  F0_minus_Fb_all_boutons\n",
       "0    GCaMP456  189.02...       22.394425              \n",
       "1    GCaMP456  195.44...       28.813279              \n",
       "2    GCaMP456  190.88...       24.251915              \n",
       "3    GCaMP456  190.30...       23.672848              \n",
       "4    GCaMP456  200.94...       34.310804              \n",
       "..        ...        ...             ...              \n",
       "161  GCaMP688  190.17...       45.052613              \n",
       "162  GCaMP686  186.40...       31.141536              \n",
       "163  GCaMP686  186.44...       31.182847              \n",
       "164  GCaMP686  201.38...       46.118690              \n",
       "165  GCaMP686  188.31...       33.053566              \n",
       "\n",
       "[166 rows x 3 columns]"
      ]
     },
     "execution_count": 3,
     "metadata": {},
     "output_type": "execute_result"
    }
   ],
   "source": [
    "# df = pd.read_excel(imgPath + 'summary_low_affinity_GCaMP_1-160Hz.xlsx', index_col = 0)\n",
    "df = pd.read_excel(imgPath + 'summary_uf-GCaMP_tdtomato_1-320Hz.xlsx', index_col = 0)\n",
    "df_f0 = pd.read_excel(imgPath + 'F0_all_boutons.xlsx', index_col = 0)\n",
    "pd.set_option('display.max_columns', 50)\n",
    "pd.set_option('display.max_colwidth', 10)\n",
    "df_f0\n"
   ]
  },
  {
   "cell_type": "markdown",
   "metadata": {},
   "source": [
    "### Group dff traces by sensor type"
   ]
  },
  {
   "cell_type": "code",
   "execution_count": 4,
   "metadata": {},
   "outputs": [],
   "source": [
    "from scipy.signal import butter,filtfilt# Filter requirements.\n",
    "T = 14.0         # Sample Period\n",
    "fs = 128.5       # sample rate, Hz\n",
    "cutoff = 20      # desired cutoff frequency of the filter, Hz ,      slightly higher than actual 1.2Hz\n",
    "nyq = 0.5 * fs  # Nyquist Frequency\n",
    "order = 2       # sin wave can be approx represented as quadratic\n",
    "n = int(T * fs) # total number of samples\n",
    "t = np.linspace(0,14,1800)\n",
    "\n",
    "def butter_lowpass_filter(data, cutoff, fs, order):\n",
    "    normal_cutoff = cutoff / nyq\n",
    "    # Get the filter coefficients \n",
    "    b, a = butter(order, normal_cutoff, btype='low', analog=False)\n",
    "    y = filtfilt(b, a, data)\n",
    "    return y\n",
    "\n"
   ]
  },
  {
   "cell_type": "code",
   "execution_count": 5,
   "metadata": {
    "scrolled": false
   },
   "outputs": [
    {
     "name": "stdout",
     "output_type": "stream",
     "text": [
      "GCaMP456 (9, 5, 1800) (1, 9)\n",
      "GCaMP456 (9, 7, 1800) (1, 9)\n",
      "GCaMP456 (9, 8, 1800) (1, 9)\n",
      "GCaMP456 (9, 4, 1800) (1, 9)\n",
      "GCaMP456 (9, 3, 1800) (1, 9)\n",
      "(9, 27, 1800)\n",
      "GCaMP455 (9, 7, 1800) (1, 9)\n",
      "GCaMP455 (9, 3, 1800) (1, 9)\n",
      "(9, 10, 1800)\n",
      "GCaMP7f (9, 3, 1800) (1, 9)\n",
      "GCaMP7f (9, 3, 1800) (1, 9)\n",
      "GCaMP7f (9, 6, 1800) (1, 9)\n",
      "GCaMP7f (9, 4, 1800) (1, 9)\n",
      "GCaMP7f (9, 5, 1800) (1, 9)\n",
      "(9, 21, 1800)\n",
      "GCaMP712 (9, 4, 1800) (1, 9)\n",
      "GCaMP712 (9, 7, 1800) (1, 9)\n",
      "(9, 11, 1800)\n",
      "GCaMP543 (9, 6, 1800) (1, 9)\n",
      "GCaMP543 (9, 3, 1800) (1, 9)\n",
      "(9, 9, 1800)\n",
      "GCaMP640\n",
      "GCaMP640 (9, 3, 1800) (1, 9)\n",
      "(9, 3, 1800)\n",
      "GCaMP688 (9, 5, 1800) (1, 9)\n",
      "GCaMP688 (9, 4, 1800) (1, 9)\n",
      "GCaMP688 (9, 6, 1800) (1, 9)\n",
      "GCaMP688 (9, 6, 1800) (1, 9)\n",
      "GCaMP688 (9, 4, 1800) (1, 9)\n",
      "(9, 25, 1800)\n",
      "GCaMP707 (9, 5, 1800) (1, 9)\n",
      "GCaMP707 (9, 3, 1800) (1, 9)\n",
      "(9, 8, 1800)\n",
      "GCaMP686 (9, 4, 1800) (1, 9)\n",
      "GCaMP686 (9, 5, 1800) (1, 9)\n",
      "GCaMP686 (9, 6, 1800) (1, 9)\n",
      "GCaMP686 (9, 6, 1800) (1, 9)\n",
      "GCaMP686 (9, 4, 1800) (1, 9)\n",
      "(9, 25, 1800)\n",
      "XCaMP (9, 4, 1800) (1, 9)\n",
      "XCaMP\n",
      "/Volumes/genie/Jihong_GENIE_stuff/NMJ_imaging/uf-GCaMP/210127/Larva_1/FOV1/summary/_dff.mat\n",
      "no mat file found!\n",
      "(9, 4, 1800)\n"
     ]
    }
   ],
   "source": [
    "# df_sorted = df[(df.Mother_line=='57C10-Gal4') & (df.Father_line_landing_site=='su(Hw)attP5')]\n",
    "# df_sorted = df[(df.Mother_line=='nsyb-LexA') & (df.Father_line_landing_site=='su(Hw)attP8')]\n",
    "# df_sorted = df[(df.Mother_line=='nsyb-LexA') & (df.Father_line_landing_site=='VK00005')]\n",
    "# df_sorted = df[(df.Mother_line=='57C10-Gal4') & (df.Father_line_landing_site=='To be updated')]\n",
    "# df_sorted = df[df.Sensor == 'GCaMP7f']\n",
    "\n",
    "df_sorted = df\n",
    "\n",
    "sensorTypes = df_sorted.Sensor.unique()\n",
    "\n",
    "# print('Total sensors: %d' %len(sensorTypes))\n",
    "dffAll = {}\n",
    "f0All = {}\n",
    "\n",
    "# for opt in ['codon optimized','non codon optimized']:\n",
    "for sensorType in(sensorTypes):\n",
    "    \n",
    "    if sensorType in ['GCaMP456','GCaMP455','GCaMP543']:\n",
    "#         print(sensorType)\n",
    "        df_sensor = df_sorted[(df_sorted.Sensor == sensorType)&(df_sorted['Codon optimization'] == 'codon optimized')]\n",
    "    else:\n",
    "        df_sensor = df_sorted[df_sorted.Sensor == sensorType]\n",
    "\n",
    "#     df_sensor = df_sorted[df_sorted['Codon optimization'] == opt]\n",
    "    \n",
    "    dffList = []\n",
    "    f0List = []\n",
    "    for index, row in df_sensor.iterrows():\n",
    "\n",
    "        if row['Date'] == 210112 and row['Larva_ID']=='Larva_2':\n",
    "            print(sensorType)\n",
    "            continue\n",
    "            \n",
    "        matFile = os.path.join(imgPath, str(row['Date']), row['Larva_ID'], row['FOV_ID'], 'summary/_dff.mat')\n",
    "        if not os.path.exists(matFile):\n",
    "            print(sensorType)\n",
    "            print(matFile)\n",
    "            print(\"no mat file found!\")\n",
    "            continue\n",
    "        dffSingleFOV = sio.loadmat(matFile)\n",
    "        dffArray = dffSingleFOV['dff']\n",
    "        \n",
    "#         dffArray = butter_lowpass_filter(dffArray, cutoff, fs, order)\n",
    "\n",
    "        dffList.append(dffArray)\n",
    "        matFile = os.path.join(imgPath, str(row['Date']), row['Larva_ID'], row['FOV_ID'], 'summary/_f0.mat')\n",
    "        f0SingleFOV = sio.loadmat(matFile)\n",
    "        f0Array = f0SingleFOV['f0']\n",
    "        \n",
    "        print(sensorType, dffArray.shape, f0Array.shape)\n",
    "\n",
    "        f0List.append(f0Array)\n",
    "    \n",
    "    dffAllROIs = np.concatenate(dffList, axis=1)\n",
    "    f0AllROIs = np.concatenate(f0List, axis=1)\n",
    "    print (dffAllROIs.shape)\n",
    "    dffAll[sensorType] = dffAllROIs\n",
    "    f0All[sensorType] = f0AllROIs\n",
    "    \n",
    "\n",
    "#     dffAll[opt] = dffAllROIs\n",
    "#     f0All[opt] = f0AllROIs\n"
   ]
  },
  {
   "cell_type": "code",
   "execution_count": 6,
   "metadata": {},
   "outputs": [
    {
     "data": {
      "text/plain": [
       "(1, 9)"
      ]
     },
     "execution_count": 6,
     "metadata": {},
     "output_type": "execute_result"
    }
   ],
   "source": [
    "f0AllROIs.shape"
   ]
  },
  {
   "cell_type": "code",
   "execution_count": 7,
   "metadata": {},
   "outputs": [
    {
     "data": {
      "text/plain": [
       "array([[168.78204561, 162.45908307, 158.46371783, 155.59230653,\n",
       "        153.75621151, 152.20950701, 151.05936523, 150.68498771,\n",
       "        150.55950528]])"
      ]
     },
     "execution_count": 7,
     "metadata": {},
     "output_type": "execute_result"
    }
   ],
   "source": [
    "f0Array"
   ]
  },
  {
   "cell_type": "code",
   "execution_count": 8,
   "metadata": {},
   "outputs": [
    {
     "data": {
      "text/plain": [
       "array(['GCaMP456', 'GCaMP455', 'GCaMP7f', 'GCaMP712', 'GCaMP543',\n",
       "       'GCaMP640', 'GCaMP688', 'GCaMP707', 'GCaMP686', 'XCaMP'],\n",
       "      dtype=object)"
      ]
     },
     "execution_count": 8,
     "metadata": {},
     "output_type": "execute_result"
    }
   ],
   "source": [
    "df.Sensor.unique()"
   ]
  },
  {
   "cell_type": "code",
   "execution_count": 9,
   "metadata": {},
   "outputs": [
    {
     "data": {
      "image/png": "[encoded data removed]",
      "text/plain": [
       "<Figure size 432x288 with 1 Axes>"
      ]
     },
     "metadata": {
      "needs_background": "light"
     },
     "output_type": "display_data"
    }
   ],
   "source": [
    "for roi in range(10):\n",
    "    plt.plot(dffAll['GCaMP455'][3][roi])\n"
   ]
  },
  {
   "cell_type": "code",
   "execution_count": 10,
   "metadata": {},
   "outputs": [],
   "source": [
    "# for k, v in dffAll.items(): # dffAll.items() for Python 3\n",
    "#     print (k)\n",
    "#     print (v.shape)\n",
    "    "
   ]
  },
  {
   "cell_type": "markdown",
   "metadata": {},
   "source": [
    "### dff frequency responses for all sensors"
   ]
  },
  {
   "cell_type": "code",
   "execution_count": 11,
   "metadata": {},
   "outputs": [
    {
     "name": "stdout",
     "output_type": "stream",
     "text": [
      "XCaMP\n"
     ]
    },
    {
     "data": {
      "image/png": "[encoded data removed]",
      "text/plain": [
       "<Figure size 180x360 with 1 Axes>"
      ]
     },
     "metadata": {
      "needs_background": "light"
     },
     "output_type": "display_data"
    }
   ],
   "source": [
    "import seaborn as sns\n",
    "trialMap = {\n",
    "            1: '1 Hz',\n",
    "            2: '5 Hz',\n",
    "            3: '10 Hz',\n",
    "            4: '20 Hz',\n",
    "            5: '40 Hz',\n",
    "            6: '80 Hz',\n",
    "            7: '160 Hz',\n",
    "            8: '240 Hz',\n",
    "            9: '320 Hz'\n",
    "           }\n",
    "\n",
    "colorMap = {\n",
    "            'GCaMP7f': '#00ff00',\n",
    "            'GCaMP456': '#0000ff',\n",
    "            'GCaMP686': '#ff0000',\n",
    "            'GCaMP688': '#666666',\n",
    "            'XCaMP': '#0099ff'\n",
    "           }\n",
    "\n",
    "\n",
    "\n",
    "# colorMap ={'GCaMP7f':'green',\n",
    "#                 'GCaMP456':'blue',\n",
    "#                 'GCaMP686':'red',\n",
    "#                 'GCaMP688':'black',\n",
    "#                 'XCaMP': 'orange'\n",
    "#           }\n",
    "\n",
    "\n",
    "titlesMap = {\n",
    "            'GCaMP7f': 'jGCaMP7f',\n",
    "            'GCaMP456': 'jGCaMP8f',\n",
    "            'GCaMP686': 'jGCaMP8m',\n",
    "            'GCaMP688': 'jGCaMP8s',\n",
    "            'XCaMP': 'XCaMP-Gf'\n",
    "           }\n",
    "\n",
    "# figOrders = ['GCaMP6s', 'GCaMP7b', 'GCaMP7c', 'GCaMP7f', 'GCaMP7s']\n",
    "# figOrders = [u'GCaMP779', u'GCaMP783', u'GCaMP804', u'GCaMP834']\n",
    "# figOrders = [u'GCaMP6f', u'GCaMP6s', u'GCaMP725', u'GCaMP734', u'GCaMP779', u'GCaMP783', u'GCaMP804', u'GCaMP834'] \n",
    "# figOrders = ['GCaMP456','GCaMP455','GCaMP7f']\n",
    "# figOrders = ['GCaMP7f','GCaMP456','GCaMP455','GCaMP712','GCaMP543','GCaMP640','GCaMP688','GCaMP707','GCaMP686','XCaMP']\n",
    "# figOrders = ['GCaMP7f','GCaMP456','GCaMP686','GCaMP688']\n",
    "figOrders = ['XCaMP']\n",
    "# figOrders = ['codon optimized','non codon optimized']\n",
    "# figOrders = ['GCaMP7f']\n",
    "fig = plt.figure(figsize=(2.5,5))\n",
    "# fig = plt.figure(figsize=(2.15,3))\n",
    "subplotPos = 0\n",
    "# for sensor, traces in dffAll.iteritems():\n",
    "sns.reset_orig()\n",
    "ax = plt.subplot(111)\n",
    "\n",
    "\n",
    "for sensor in(figOrders):\n",
    "    print(sensor)\n",
    "\n",
    "    \n",
    "#     if sensor=='GCaMP455' and trialNum==3:\n",
    "#         print(np.std(rawAll[sensor][trialNum,roiNum,200:300])\n",
    "    mean = np.mean(dffAll[sensor], axis = 1)\n",
    "#     mean = np.mean(rawAll[sensor], axis = 1)\n",
    "\n",
    "    sem = np.std(dffAll[sensor], axis = 1)/np.sqrt(dffAll[sensor].shape[1])\n",
    "#     sem = np.std(rawAll[sensor], axis = 1)/np.sqrt(rawAll[sensor].shape[1])\n",
    "\n",
    "    subplotPos += 1\n",
    "#     if subplotPos <6:\n",
    "#     ax = plt.subplot(1,4,subplotPos)\n",
    "\n",
    "        \n",
    "#     for trialNum in range(mean.shape[0]):\n",
    "    q = []\n",
    "    for trialNum in range(7):\n",
    "#     for trialNum in range(4):\n",
    "#         if trialNum == 1:\n",
    "#             continue\n",
    "        \n",
    "        ax.plot(np.arange(1, mean.shape[1] + 1)/params['frameInterval']-2.21, mean[trialNum], lw=2,\n",
    "                label=trialMap[trialNum+1],color = colorMap[sensor],alpha=(7-trialNum/1.2)/7.0)\n",
    "        ax.fill_between(np.arange(1, mean.shape[1] + 1)/params['frameInterval']-2.21, mean[trialNum]-sem[trialNum],\n",
    "                        mean[trialNum]+sem[trialNum], color = colorMap[sensor],alpha=0.25*(7-trialNum/1.2)/7.0)\n",
    "        \n",
    "        \n",
    "        \n",
    "        \n",
    "#         ax.plot(np.arange(385,488)/params['frameInterval']-2.21, mean[trialNum][385:488], lw=2,\n",
    "#                 label=trialMap[trialNum+1],color = colorMap[sensor],alpha=(7-trialNum/1.2)/7.0)\n",
    "#         ax.fill_between(np.arange(385,488)/params['frameInterval']-2.21, mean[trialNum][385:488]-\n",
    "#                         sem[trialNum][385:488],mean[trialNum][385:488]+sem[trialNum][385:488],\n",
    "#                         color = colorMap[sensor],alpha=0.25*(7-trialNum/1.2)/7.0)\n",
    "\n",
    "\n",
    "\n",
    "\n",
    "#         ax.plot(np.arange(1, mean.shape[1] + 1), mean[trialNum], lw=1,\n",
    "#                     label=trialMap[trialNum+1],color = colorMap[trialNum+1])\n",
    "    \n",
    "#         if sensor == 'GCaMP7f':\n",
    "#         if sensor == 'non codon optimized':\n",
    "\n",
    "        box = ax.get_position()\n",
    "        ax.set_position([box.x0, box.y0, box.width * 0.8, box.height])\n",
    "\n",
    "leg = ax.legend()\n",
    "leg = ax.legend(loc='upper right',bbox_to_anchor=(1.1,1), ncol=1) \n",
    "leg.get_frame().set_linewidth(0.0)\n",
    "\n",
    "\n",
    "ax.spines['right'].set_visible(False)\n",
    "ax.spines['top'].set_visible(False)\n",
    "# ax.yaxis.set_ticks_position('left')\n",
    "# ax.xaxis.set_ticks_position('bottom')\n",
    "\n",
    "\n",
    "ax.set_title(titlesMap[sensor])\n",
    "ax.set_xlabel('Time (s)')\n",
    "ax.set_ylabel('\\u0394F/F0')\n",
    "\n",
    "\n",
    "\n",
    "#         ax.axis.label.set_color('#4B4B4B')\n",
    "#     ax.set_ylim([-0.15, 0.2])\n",
    "#     ax.set_ylim([-0.15, 12.5])\n",
    "#     ax.set_ylim([-0.1, 2.5])\n",
    "\n",
    "#     ax.set_xlim([3.2,3.8])\n",
    "#     if sensor == 'GCaMP712':\n",
    "# #     if sensor == 'non codon optimized':\n",
    "#         y_lim = ax.get_ylim()\n",
    "#     ax.set_ylim([-0.5,10])\n",
    "# #     ax.set_xlim([2.5,8.5])\n",
    "    \n",
    "#     ax.set_xlim([660,680])\n",
    "    \n",
    "#     ax.set_ylim([-0.5,1.6])\n",
    "#     ax.set_xlim([2.8,4.9])\n",
    "#     ax.set_ylim([150,450])\n",
    "    \n",
    "# ax.set_ylim([-0.2, 9.0051329609305])\n",
    "# ax.set_ylim([-0.1, 2.35])\n",
    "# ax.set_xlim(a[300],a[1500]) \n",
    "# ax.set_xlim([0.8,1.6])\n",
    "\n",
    "#     if sensor=='GCaMP7f':\n",
    "#         print(ax.get_ylim())\n",
    "\n",
    "ax.set_xlim([0,8])\n",
    "plt.tight_layout()\n",
    "savePath = '/Users/zhengj10/Desktop/'\n",
    "# fig.savefig('/Users/zhengj10/Desktop/figure_NMJ/686_1-10Hz.pdf',format='pdf')\n",
    "# fig.savefig('/Users/zhengj10/Desktop/NMJ_imaging/688_1-10Hz.pdf',format='pdf')\n",
    "# fig.savefig(savePath + 'XCaMP.pdf',format='pdf')\n",
    "# \n",
    "plt.show()\n"
   ]
  },
  {
   "cell_type": "code",
   "execution_count": 12,
   "metadata": {},
   "outputs": [
    {
     "data": {
      "text/plain": [
       "[<matplotlib.lines.Line2D at 0x7ffcbe18db50>]"
      ]
     },
     "execution_count": 12,
     "metadata": {},
     "output_type": "execute_result"
    },
    {
     "data": {
      "image/png": "[encoded data removed]",
      "text/plain": [
       "<Figure size 432x288 with 1 Axes>"
      ]
     },
     "metadata": {
      "needs_background": "light"
     },
     "output_type": "display_data"
    }
   ],
   "source": [
    "plt.plot(mean[3][405:855])\n"
   ]
  },
  {
   "cell_type": "code",
   "execution_count": 13,
   "metadata": {},
   "outputs": [],
   "source": [
    "window = {\n",
    "    1:128.5,\n",
    "    5:25.7,\n",
    "    10:12.85,\n",
    "    20:6.425\n",
    "}\n",
    "\n"
   ]
  },
  {
   "cell_type": "markdown",
   "metadata": {},
   "source": [
    "### average of individual dFFs at 1-20 Hz"
   ]
  },
  {
   "cell_type": "code",
   "execution_count": 14,
   "metadata": {},
   "outputs": [],
   "source": [
    "trialMap = {\n",
    "            1: '1 Hz',\n",
    "            2: '5 Hz',\n",
    "            3: '10 Hz',\n",
    "            4: '20 Hz',\n",
    "            5: '40 Hz',\n",
    "            6: '80 Hz',\n",
    "            7: '160 Hz',\n",
    "            8: '240 Hz',\n",
    "            9: '320 Hz'\n",
    "           }\n",
    "\n",
    "\n",
    "# colorMap ={'GCaMP7f':'green',\n",
    "#                 'GCaMP456':'blue',\n",
    "#                 'GCaMP686':'red',\n",
    "#                 'GCaMP688':'black',\n",
    "#                 'XCaMP': 'orange'\n",
    "#           }\n",
    "\n",
    "\n",
    "titlesMap = {\n",
    "            'GCaMP7f': 'jGCaMP7f',\n",
    "            'GCaMP456': 'jGCaMP8f',\n",
    "            'GCaMP686': 'jGCaMP8m',\n",
    "            'GCaMP688': 'jGCaMP8s',\n",
    "            'XCaMP': 'XCaMP'\n",
    "           }\n",
    "\n",
    "\n",
    "figOrders = ['GCaMP456','GCaMP686','GCaMP688','GCaMP7f']\n",
    "\n",
    "k = 20\n",
    "\n",
    "Sensor = []\n",
    "mean_dFF = []\n",
    "dFF=  []\n",
    "for sensor in(figOrders):\n",
    "#     print(sensor)\n",
    "    mean_dff = []\n",
    "    \n",
    "    for roi in range(dffAll[sensor].shape[1]):\n",
    "#         print(dffAll[sensor].shape[1])\n",
    "        for stim in range(2*k):\n",
    "\n",
    "\n",
    "            seg=dffAll[sensor][3][roi][415-int(window[k]*1/3)+int(stim*window[k]):415+int(window[k]*2/3)+int(stim*window[k])]\n",
    "            individual_dff = np.max(seg)-np.min(seg)\n",
    "            mean_dff.append(individual_dff)\n",
    "        mean_dFF = np.mean(mean_dff)\n",
    "        Sensor.append(sensor)\n",
    "        dFF.append(mean_dFF)\n",
    "    \n",
    "    "
   ]
  },
  {
   "cell_type": "code",
   "execution_count": 15,
   "metadata": {},
   "outputs": [],
   "source": [
    "df_dff_low_freq = pd.DataFrame({'Sensor':Sensor,'individual_dFF':dFF})"
   ]
  },
  {
   "cell_type": "code",
   "execution_count": 16,
   "metadata": {},
   "outputs": [
    {
     "data": {
      "text/plain": [
       "(98, 2)"
      ]
     },
     "execution_count": 16,
     "metadata": {},
     "output_type": "execute_result"
    }
   ],
   "source": [
    "df_dff_low_freq.shape"
   ]
  },
  {
   "cell_type": "code",
   "execution_count": 19,
   "metadata": {},
   "outputs": [
    {
     "data": {
      "image/png": "[encoded data removed]",
      "text/plain": [
       "<Figure size 216x288 with 1 Axes>"
      ]
     },
     "metadata": {},
     "output_type": "display_data"
    }
   ],
   "source": [
    "import seaborn as sns\n",
    "import matplotlib.pyplot as plt\n",
    "fig = plt.figure(figsize=(3,4))\n",
    "ax  = plt.subplot(111)\n",
    "\n",
    "sns.set_style(\"whitegrid\")\n",
    "hits_label = ['jGCaMP8f','jGCaMP8m','jGCaMP8s','jGCaMP7f']\n",
    "\n",
    "# colors =['green','blue','red','black']\n",
    "colors = ['#0000ff','#ff0000','#666666','#00ff00']\n",
    "# colors = ['#00ff00','#0000ff','#ff0000','#666666','#0099ff'] # Last one is XCaMP\n",
    "\n",
    "\n",
    "sns.stripplot(ax = ax, x=\"Sensor\", y='individual_dFF', data=df_dff_low_freq,\n",
    "                   size=4,\n",
    "                   alpha=0.4,\n",
    "                  #zorder=1,\n",
    "                  color='k')\n",
    "\n",
    "sns.boxplot(x=\"Sensor\", y='individual_dFF', data=df_dff_low_freq,\n",
    "                 showfliers=False, \n",
    "                 linewidth=2,\n",
    "                 width=.5,\n",
    "                 #zorder=100,\n",
    "                 palette = colors,\n",
    "            ax=ax\n",
    "                )\n",
    "\n",
    "ax.set_xticklabels(hits_label,rotation=45)\n",
    "\n",
    "\n",
    "\n",
    "\n",
    "# sns.swarmplot(x=\"Sensor\", y='individual_dFF', data=df_dff_low_freq, ax = ax, size=6, dodge=True, alpha=0.4, palette=colors)\n",
    "# ax = sns.barplot(x=\"Sensor\", y='individual_dFF', data=df_dff_low_freq, ax = ax, alpha=0.4, palette=colors,capsize=0.3)\n",
    "# # sb = sns.boxplot(x=\"Pipette\", y=value, data=df, ax = ax, boxprops=dict(alpha=0.4),showfliers=False)\n",
    "# ax.spines['right'].set_visible(False)\n",
    "# ax.spines['top'].set_visible(False)\n",
    "# # ylabel = value + ' (\\u03BCm)'\n",
    "# # ax.set_ylabel(ylabel,size=12)\n",
    "# # ax.set_xlabel('Pipette #',size=12)\n",
    "\n",
    "# patches = ax.patches\n",
    "# lines_per_err = 3\n",
    "\n",
    "# for i, line in enumerate(ax.get_lines()):\n",
    "#     newcolor = patches[i // lines_per_err].get_facecolor()\n",
    "#     line.set_color(newcolor)\n",
    "# plt.xticks([0,1,2,3], ['jGCaMP8f','jGCaMP8m','jGCaMP8s','jGCaMP7f'], rotation=45, ha = 'right')\n",
    "ax.set_xlabel('')\n",
    "ax.set_ylabel('Individual \\u0394F/F0 20 Hz')\n",
    "ax.set_ylim([-0.00041996960752363477, 0.9529216335022663])\n",
    "plt.tight_layout()\n",
    "\n",
    "\n",
    "# fig.savefig('/Users/zhengj10/Desktop/F0.png')\n",
    "# fig.savefig('/Users/zhengj10/Desktop/20Hz_bar.pdf',format='pdf')\n",
    "plt.show()\n"
   ]
  },
  {
   "cell_type": "code",
   "execution_count": null,
   "metadata": {},
   "outputs": [],
   "source": [
    "ax.plot?"
   ]
  },
  {
   "cell_type": "code",
   "execution_count": null,
   "metadata": {},
   "outputs": [],
   "source": [
    "ax.get_xlim()"
   ]
  },
  {
   "cell_type": "code",
   "execution_count": null,
   "metadata": {},
   "outputs": [],
   "source": [
    "ax.get_ylim()"
   ]
  },
  {
   "cell_type": "code",
   "execution_count": null,
   "metadata": {},
   "outputs": [],
   "source": [
    "\n",
    "# plt.tight_layout()\n"
   ]
  },
  {
   "cell_type": "code",
   "execution_count": null,
   "metadata": {},
   "outputs": [],
   "source": [
    "plt.plot(mean[2])"
   ]
  },
  {
   "cell_type": "markdown",
   "metadata": {},
   "source": [
    "### SNR with raw data"
   ]
  },
  {
   "cell_type": "code",
   "execution_count": 20,
   "metadata": {},
   "outputs": [
    {
     "name": "stdout",
     "output_type": "stream",
     "text": [
      "GCaMP456\n",
      "no mat file found!\n",
      "GCaMP456\n",
      "no mat file found!\n",
      "GCaMP456\n",
      "no mat file found!\n",
      "GCaMP456\n",
      "no mat file found!\n",
      "GCaMP456\n",
      "no mat file found!\n"
     ]
    },
    {
     "ename": "ValueError",
     "evalue": "need at least one array to concatenate",
     "output_type": "error",
     "traceback": [
      "\u001b[0;31m---------------------------------------------------------------------------\u001b[0m",
      "\u001b[0;31mValueError\u001b[0m                                Traceback (most recent call last)",
      "\u001b[0;32m<ipython-input-20-1f4ec84dbc22>\u001b[0m in \u001b[0;36m<module>\u001b[0;34m\u001b[0m\n\u001b[1;32m     33\u001b[0m         \u001b[0mf0List\u001b[0m\u001b[0;34m.\u001b[0m\u001b[0mappend\u001b[0m\u001b[0;34m(\u001b[0m\u001b[0mf0Array\u001b[0m\u001b[0;34m)\u001b[0m\u001b[0;34m\u001b[0m\u001b[0;34m\u001b[0m\u001b[0m\n\u001b[1;32m     34\u001b[0m \u001b[0;34m\u001b[0m\u001b[0m\n\u001b[0;32m---> 35\u001b[0;31m     \u001b[0mrawAllROIs\u001b[0m \u001b[0;34m=\u001b[0m \u001b[0mnp\u001b[0m\u001b[0;34m.\u001b[0m\u001b[0mconcatenate\u001b[0m\u001b[0;34m(\u001b[0m\u001b[0mrawList\u001b[0m\u001b[0;34m,\u001b[0m \u001b[0maxis\u001b[0m\u001b[0;34m=\u001b[0m\u001b[0;36m1\u001b[0m\u001b[0;34m)\u001b[0m\u001b[0;34m\u001b[0m\u001b[0;34m\u001b[0m\u001b[0m\n\u001b[0m\u001b[1;32m     36\u001b[0m     \u001b[0mf0AllROIs\u001b[0m \u001b[0;34m=\u001b[0m \u001b[0mnp\u001b[0m\u001b[0;34m.\u001b[0m\u001b[0mconcatenate\u001b[0m\u001b[0;34m(\u001b[0m\u001b[0mf0List\u001b[0m\u001b[0;34m,\u001b[0m \u001b[0maxis\u001b[0m\u001b[0;34m=\u001b[0m\u001b[0;36m1\u001b[0m\u001b[0;34m)\u001b[0m\u001b[0;34m\u001b[0m\u001b[0;34m\u001b[0m\u001b[0m\n\u001b[1;32m     37\u001b[0m     \u001b[0mprint\u001b[0m \u001b[0;34m(\u001b[0m\u001b[0mrawAllROIs\u001b[0m\u001b[0;34m.\u001b[0m\u001b[0mshape\u001b[0m\u001b[0;34m)\u001b[0m\u001b[0;34m\u001b[0m\u001b[0;34m\u001b[0m\u001b[0m\n",
      "\u001b[0;32m<__array_function__ internals>\u001b[0m in \u001b[0;36mconcatenate\u001b[0;34m(*args, **kwargs)\u001b[0m\n",
      "\u001b[0;31mValueError\u001b[0m: need at least one array to concatenate"
     ]
    }
   ],
   "source": [
    "df_sorted = df\n",
    "sensorTypes = df_sorted.Sensor.unique()\n",
    "\n",
    "rawAll = {}\n",
    "f0All = {}\n",
    "\n",
    "for sensorType in(sensorTypes):\n",
    "    if sensorType in ['GCaMP456','GCaMP455','GCaMP543']:\n",
    "        df_sensor = df_sorted[(df_sorted.Sensor == sensorType)&(df_sorted['Codon optimization'] == 'codon optimized')]\n",
    "    else:\n",
    "        df_sensor = df_sorted[df_sorted.Sensor == sensorType]\n",
    "    \n",
    "    rawList = []\n",
    "    f0List = []\n",
    "    for index, row in df_sensor.iterrows():\n",
    "\n",
    "        if row['Date'] == 210112 and row['Larva_ID']=='Larva_2':\n",
    "#             print(sensorType)\n",
    "            continue\n",
    "            \n",
    "        matFile = os.path.join(imgPath, str(row['Date']), row['Larva_ID'], row['FOV_ID'], 'summary/_raw.mat')\n",
    "        if not os.path.exists(matFile):\n",
    "            print(sensorType)\n",
    "            print(\"no mat file found!\")\n",
    "            continue\n",
    "        rawSingleFOV = sio.loadmat(matFile)\n",
    "        rawArray = rawSingleFOV['raw']\n",
    "\n",
    "        rawList.append(rawArray)\n",
    "        matFile = os.path.join(imgPath, str(row['Date']), row['Larva_ID'], row['FOV_ID'], 'summary/_f0.mat')\n",
    "        f0SingleFOV = sio.loadmat(matFile)\n",
    "        f0Array = f0SingleFOV['f0']\n",
    "        f0List.append(f0Array)\n",
    "    \n",
    "    rawAllROIs = np.concatenate(rawList, axis=1)\n",
    "    f0AllROIs = np.concatenate(f0List, axis=1)\n",
    "    print (rawAllROIs.shape)\n",
    "    rawAll[sensorType] = rawAllROIs\n",
    "    f0All[sensorType] = f0AllROIs\n"
   ]
  },
  {
   "cell_type": "code",
   "execution_count": 21,
   "metadata": {},
   "outputs": [
    {
     "ename": "KeyError",
     "evalue": "'GCaMP7f'",
     "output_type": "error",
     "traceback": [
      "\u001b[0;31m---------------------------------------------------------------------------\u001b[0m",
      "\u001b[0;31mKeyError\u001b[0m                                  Traceback (most recent call last)",
      "\u001b[0;32m<ipython-input-21-f2baec5dd571>\u001b[0m in \u001b[0;36m<module>\u001b[0;34m\u001b[0m\n\u001b[1;32m      9\u001b[0m     \u001b[0mSNR_mean_all\u001b[0m \u001b[0;34m=\u001b[0m \u001b[0;34m[\u001b[0m\u001b[0;34m]\u001b[0m\u001b[0;34m\u001b[0m\u001b[0;34m\u001b[0m\u001b[0m\n\u001b[1;32m     10\u001b[0m     \u001b[0mSNR_sem_all\u001b[0m \u001b[0;34m=\u001b[0m \u001b[0;34m[\u001b[0m\u001b[0;34m]\u001b[0m\u001b[0;34m\u001b[0m\u001b[0;34m\u001b[0m\u001b[0m\n\u001b[0;32m---> 11\u001b[0;31m     \u001b[0;32mfor\u001b[0m \u001b[0mtrialNum\u001b[0m \u001b[0;32min\u001b[0m \u001b[0mrange\u001b[0m\u001b[0;34m(\u001b[0m\u001b[0mrawAll\u001b[0m\u001b[0;34m[\u001b[0m\u001b[0msensor\u001b[0m\u001b[0;34m]\u001b[0m\u001b[0;34m.\u001b[0m\u001b[0mshape\u001b[0m\u001b[0;34m[\u001b[0m\u001b[0;36m0\u001b[0m\u001b[0;34m]\u001b[0m\u001b[0;34m)\u001b[0m\u001b[0;34m:\u001b[0m\u001b[0;34m\u001b[0m\u001b[0;34m\u001b[0m\u001b[0m\n\u001b[0m\u001b[1;32m     12\u001b[0m         \u001b[0mSNR\u001b[0m \u001b[0;34m=\u001b[0m \u001b[0;34m[\u001b[0m\u001b[0;34m]\u001b[0m\u001b[0;34m\u001b[0m\u001b[0;34m\u001b[0m\u001b[0m\n\u001b[1;32m     13\u001b[0m         \u001b[0;32mfor\u001b[0m \u001b[0mroiNum\u001b[0m \u001b[0;32min\u001b[0m \u001b[0mrange\u001b[0m\u001b[0;34m(\u001b[0m\u001b[0mrawAll\u001b[0m\u001b[0;34m[\u001b[0m\u001b[0msensor\u001b[0m\u001b[0;34m]\u001b[0m\u001b[0;34m.\u001b[0m\u001b[0mshape\u001b[0m\u001b[0;34m[\u001b[0m\u001b[0;36m1\u001b[0m\u001b[0;34m]\u001b[0m\u001b[0;34m)\u001b[0m\u001b[0;34m:\u001b[0m\u001b[0;34m\u001b[0m\u001b[0;34m\u001b[0m\u001b[0m\n",
      "\u001b[0;31mKeyError\u001b[0m: 'GCaMP7f'"
     ]
    }
   ],
   "source": [
    "# fig = plt.figure(figsize=(12,8))\n",
    "subplotPos = 0\n",
    "figOrders = ['GCaMP7f','GCaMP456','GCaMP455','GCaMP712','GCaMP543','GCaMP640','GCaMP688','GCaMP707','GCaMP686','XCaMP']\n",
    "# figOrders = ['GCaMP686']\n",
    "\n",
    "SNR_all = {}\n",
    "for sensor in(figOrders):\n",
    "    SNR_all[sensor] = []\n",
    "    SNR_mean_all = []\n",
    "    SNR_sem_all = []\n",
    "    for trialNum in range(rawAll[sensor].shape[0]):\n",
    "        SNR = []\n",
    "        for roiNum in range(rawAll[sensor].shape[1]):\n",
    "            S = np.max(rawAll[sensor][trialNum,roiNum,400:700])-np.max(rawAll[sensor][trialNum,roiNum,200:300])\n",
    "            N = np.std(rawAll[sensor][trialNum,roiNum,200:300])\n",
    "            snr = S/N\n",
    "            SNR.append(snr)\n",
    "        SNR_mean = np.mean(SNR)\n",
    "        SNR_sem = np.std(SNR)/np.sqrt(len(SNR))\n",
    "        SNR_mean_all.append(SNR_mean)\n",
    "        SNR_sem_all.append(SNR_sem)\n",
    "    SNR_all[sensor].append(SNR_mean_all)\n",
    "    SNR_all[sensor].append(SNR_sem_all)\n"
   ]
  },
  {
   "cell_type": "code",
   "execution_count": null,
   "metadata": {},
   "outputs": [],
   "source": [
    "df"
   ]
  },
  {
   "cell_type": "code",
   "execution_count": null,
   "metadata": {},
   "outputs": [],
   "source": [
    "bars1 = []\n",
    "bars2 = []\n",
    "bars3 = []\n",
    "bars4 = []\n",
    "bars5 = []\n",
    "bars6 = []\n",
    "bars7 = []\n",
    "bars8 = []\n",
    "bars9 = []\n",
    "\n",
    "sem1 = []\n",
    "sem2 = []\n",
    "sem3 = []\n",
    "sem4 = []\n",
    "sem5 = []\n",
    "sem6 = []\n",
    "sem7 = []\n",
    "sem8 = []\n",
    "sem9 = []\n",
    "\n",
    "x_labels = []\n",
    "\n",
    "for k,v in SNR_all.items():\n",
    "    \n",
    "    bars1.append(v[0][0])\n",
    "    bars2.append(v[0][1])\n",
    "    bars3.append(v[0][2])\n",
    "    bars4.append(v[0][3])\n",
    "    bars5.append(v[0][4])\n",
    "    bars6.append(v[0][5])\n",
    "    bars7.append(v[0][6])\n",
    "    bars8.append(v[0][7])\n",
    "    bars9.append(v[0][8])\n",
    "    \n",
    "    sem1.append(v[1][0])\n",
    "    sem2.append(v[1][1])\n",
    "    sem3.append(v[1][2])\n",
    "    sem4.append(v[1][3])\n",
    "    sem5.append(v[1][4])\n",
    "    sem6.append(v[1][5])\n",
    "    sem7.append(v[1][6])\n",
    "    sem8.append(v[1][7])\n",
    "    sem9.append(v[1][8])\n",
    "    \n",
    "    x_labels.append(k)\n",
    "    \n",
    " \n",
    "## set position of bar on X axis\n",
    "barWidth = 0.1\n",
    "\n",
    "u = 1\n",
    "\n",
    "r1 = np.arange(len(bars1))\n",
    "r2 = [x + barWidth*u for x in r1]\n",
    "r3 = [x + barWidth*u for x in r2]\n",
    "r4 = [x + barWidth*u for x in r3]\n",
    "r5 = [x + barWidth*u for x in r4]\n",
    "r6 = [x + barWidth*u for x in r5]\n",
    "r7 = [x + barWidth*u for x in r6]\n",
    "r8 = [x + barWidth*u for x in r7]\n",
    "r9 = [x + barWidth*u for x in r8]\n",
    "\n",
    "plt.figure(figsize=[12,5])\n",
    "\n",
    "colorMap = {\n",
    "            1: 'brown',\n",
    "            2: 'pink',\n",
    "            3: 'greenyellow',\n",
    "            4: 'skyblue',\n",
    "            5: 'mediumpurple',\n",
    "            6: 'g',\n",
    "            7: 'navy',\n",
    "            8: 'violet',\n",
    "            9: 'goldenrod'\n",
    "           }\n",
    "\n",
    "plt.bar(r1, bars1, color='brown', width=barWidth, label='1 Hz')\n",
    "plt.bar(r2, bars2, color='pink', width=barWidth, label='5 Hz')\n",
    "plt.bar(r3, bars3, color='greenyellow', width=barWidth, label='10 Hz')\n",
    "plt.bar(r4, bars4, color='skyblue', width=barWidth, label='20 Hz')\n",
    "plt.bar(r5, bars5, color='mediumpurple', width=barWidth, label='40 Hz')\n",
    "plt.bar(r6, bars6, color='g', width=barWidth, label='80 Hz')\n",
    "plt.bar(r7, bars7, color='navy', width=barWidth, label='160 Hz')\n",
    "plt.bar(r8, bars8, color='violet', width=barWidth, label='240 Hz')\n",
    "plt.bar(r9, bars9, color='goldenrod', width=barWidth, label='320 Hz')\n",
    "\n",
    "plt.xlabel('')\n",
    "plt.ylabel('SNR',size=12)\n",
    "plt.xticks([r + barWidth/2 for r in range(len(bars1))], x_labels,size=12,rotation=30)\n",
    "plt.legend(prop={\"size\":12})\n",
    "\n",
    "# plt.ylim([0,100])\n",
    "\n",
    "plt.tight_layout()\n",
    "# plt.savefig('/Users/zhengj10/Desktop/SNR_bar.png')\n",
    "plt.show()\n"
   ]
  },
  {
   "cell_type": "code",
   "execution_count": null,
   "metadata": {},
   "outputs": [],
   "source": [
    "fig = plt.figure(figsize=[4.2,3])\n",
    "figOrders = ['GCaMP456','GCaMP686','GCaMP688','GCaMP7f']\n",
    "x = ['1','5','10','20','40','80','160']\n",
    "# x = ['1','5','10','20','40']\n",
    "\n",
    "\n",
    "# colorMap ={'GCaMP7f':'green',\n",
    "#                 'GCaMP456':'blue',\n",
    "#                 'GCaMP686':'red',\n",
    "#                 'GCaMP688':'black',\n",
    "#                 'XCaMP': 'orange'}\n",
    "\n",
    "\n",
    "colorMap = {\n",
    "            'GCaMP7f': '#00ff00',\n",
    "            'GCaMP456': '#0000ff',\n",
    "            'GCaMP686': '#ff0000',\n",
    "            'GCaMP688': '#666666',\n",
    "            'XCaMP': '#0099ff'\n",
    "           }\n",
    "\n",
    "ax = plt.subplot(111)\n",
    "\n",
    "# for sensor in ['GCaMP455']:\n",
    "# for sensor in SNR_all.keys():\n",
    "for sensor in figOrders:\n",
    "    ax.errorbar(x,SNR_all[sensor][0][:7],yerr=SNR_all[sensor][1][:7],fmt = '-',label=sensor,color=colorMap[sensor])\n",
    "    leg = ax.legend(frameon=False)\n",
    "\n",
    "    for item in leg.legendHandles: # remove error marker in legend\n",
    "        item.set_visible(False)\n",
    "    ax.spines['right'].set_visible(False)\n",
    "    ax.spines['top'].set_visible(False)\n",
    "ax.set_ylabel('Peak SNR')\n",
    "ax.set_xlabel('Stimulation (Hz)')\n",
    "ax.set_yscale('log')\n",
    "# ax.set_ylim([-2,105])\n",
    "plt.tight_layout()\n",
    "# fig.savefig('/Users/zhengj10/Desktop/SNR_line.pdf',format='pdf')\n",
    "\n",
    "plt.show()\n"
   ]
  },
  {
   "cell_type": "code",
   "execution_count": null,
   "metadata": {},
   "outputs": [],
   "source": [
    "colorMap"
   ]
  },
  {
   "cell_type": "code",
   "execution_count": null,
   "metadata": {},
   "outputs": [],
   "source": [
    "fig = plt.figure(figsize=[4,3])\n",
    "\n",
    "x = ['1','5','10','20','40','80','160']\n",
    "# x = ['a','b','c','d','e','f','g','h','i']\n",
    "ax = plt.subplot(111)\n",
    "dFF_peak = {}\n",
    "\n",
    "sensors = []\n",
    "dff_one_Hz = []\n",
    "\n",
    "\n",
    "for sensor in(figOrders):\n",
    "    dFF_peak[sensor] = {}\n",
    "    dFF_peak[sensor]['mean'] = []\n",
    "    dFF_peak[sensor]['sem'] = []\n",
    "    for trialNum in range(dffAll[sensor].shape[0]):\n",
    "#     for trialNum in range(1):\n",
    "        dFF_peak_all_rois = []\n",
    "        for roi in range(dffAll[sensor].shape[1]):\n",
    "            dFF_peak_single_roi = np.max(dffAll[sensor][trialNum,roi,:])-np.max(dffAll[sensor][trialNum,roi,200:250])\n",
    "            dFF_peak_all_rois.append(dFF_peak_single_roi)\n",
    "            \n",
    "            sensors.append(sensor)\n",
    "            dff_one_Hz.append(dFF_peak_single_roi)\n",
    "            \n",
    "        dFF_peak_all_rois_mean = np.mean(dFF_peak_all_rois)\n",
    "        dFF_peak_all_rois_sem = np.std(dFF_peak_all_rois)/np.sqrt(dffAll[sensor].shape[1])\n",
    "        dFF_peak[sensor]['mean'].append(dFF_peak_all_rois_mean)\n",
    "        dFF_peak[sensor]['sem'].append(dFF_peak_all_rois_sem)\n",
    "    ax.errorbar(x,dFF_peak[sensor]['mean'][:7],yerr=dFF_peak[sensor]['sem'][:7],fmt = '-',label=sensor\n",
    "               ,color=colorMap[sensor])\n",
    "    leg = ax.legend(frameon=False)\n",
    "    for item in leg.legendHandles: # remove error marker in legend\n",
    "        item.set_visible(False)\n",
    "    ax.spines['right'].set_visible(False)\n",
    "    ax.spines['top'].set_visible(False)\n",
    "ax.set_ylabel('Saturated \\u0394F/F0')\n",
    "ax.set_xlabel('Stimulation (Hz)')\n",
    "plt.tight_layout()\n",
    "# fig.savefig('/Users/zhengj10/Desktop/210427/Peak_dFF_saturation.png')\n",
    "# fig.savefig('/Users/zhengj10/Desktop/Peak_dFF_saturation.pdf',format='pdf')\n",
    "plt.show()\n"
   ]
  },
  {
   "cell_type": "code",
   "execution_count": null,
   "metadata": {},
   "outputs": [],
   "source": [
    "colors"
   ]
  },
  {
   "cell_type": "code",
   "execution_count": null,
   "metadata": {},
   "outputs": [],
   "source": [
    "df_dff = pd.DataFrame({'sensor':sensors,'dff_1_Hz':dff_one_Hz})\n",
    "\n"
   ]
  },
  {
   "cell_type": "code",
   "execution_count": null,
   "metadata": {},
   "outputs": [],
   "source": [
    "df_dff"
   ]
  },
  {
   "cell_type": "code",
   "execution_count": null,
   "metadata": {},
   "outputs": [],
   "source": [
    "import seaborn as sns\n",
    "fig = plt.figure(figsize=(3,4))\n",
    "ax  = plt.subplot(111)\n",
    "sns.swarmplot(x=\"sensor\", y='dff_1_Hz', data=df_dff, ax = ax, size=6, dodge=True, alpha=0.4, palette=colors)\n",
    "ax = sns.barplot(x=\"sensor\", y='dff_1_Hz', data=df_dff, ax = ax, alpha=0.4, palette=colors,capsize=0.3)\n",
    "# sb = sns.boxplot(x=\"Pipette\", y=value, data=df, ax = ax, boxprops=dict(alpha=0.4),showfliers=False)\n",
    "ax.spines['right'].set_visible(False)\n",
    "ax.spines['top'].set_visible(False)\n",
    "# ylabel = value + ' (\\u03BCm)'\n",
    "# ax.set_ylabel(ylabel,size=12)\n",
    "# ax.set_xlabel('Pipette #',size=12)\n",
    "\n",
    "patches = ax.patches\n",
    "lines_per_err = 3\n",
    "\n",
    "for i, line in enumerate(ax.get_lines()):\n",
    "    newcolor = patches[i // lines_per_err].get_facecolor()\n",
    "    line.set_color(newcolor)\n",
    "plt.xticks([0,1,2,3], ['jGCaMP7f','jGCaMP8f','jGCaMP8m','jGCaMP8s'], rotation=45, ha = 'right')\n",
    "ax.set_xlabel('')\n",
    "ax.set_ylabel('Saturated \\u0394F/F0 1 Hz')\n",
    "\n",
    "plt.tight_layout()\n",
    "# fig.savefig('/Users/zhengj10/Desktop/F0.png')\n",
    "# fig.savefig('/Users/zhengj10/Desktop/dff_1_Hz.pdf',format='pdf')\n",
    "plt.show()\n"
   ]
  },
  {
   "cell_type": "markdown",
   "metadata": {},
   "source": [
    "### F0 for all sensors"
   ]
  },
  {
   "cell_type": "code",
   "execution_count": null,
   "metadata": {},
   "outputs": [],
   "source": [
    "Sensors = ['GCaMP456','GCaMP686','GCaMP688','GCaMP7f']\n",
    "\n",
    "df_f0_sel = pd.DataFrame()\n",
    "for sensor in Sensors:\n",
    "    print(sensor)\n",
    "    df_sensor = df_f0[df_f0['sensors']==sensor]\n",
    "    df_f0_sel = df_f0_sel.append(df_sensor)"
   ]
  },
  {
   "cell_type": "code",
   "execution_count": null,
   "metadata": {},
   "outputs": [],
   "source": [
    "df_f0_sel"
   ]
  },
  {
   "cell_type": "code",
   "execution_count": null,
   "metadata": {},
   "outputs": [],
   "source": [
    "# import seaborn as sns\n",
    "fig = plt.figure(figsize=(3,4))\n",
    "ax  = plt.subplot(111)\n",
    "# sns.swarmplot(x=\"sensor\", y='f0', data=df, ax = ax, size=6, dodge=True, alpha=0.4, palette=colors)\n",
    "# ax = sns.barplot(x=\"sensor\", y='f0', data=df, ax = ax, alpha=0.4, palette=colors,capsize=0.3)\n",
    "\n",
    "sns.stripplot(ax = ax, x=\"sensors\", y='F0_minus_Fb_all_boutons', data=df_f0_sel,\n",
    "                   size=4,\n",
    "                   alpha=0.4,\n",
    "                   color='k',\n",
    "\n",
    "                   edgecolor = None,\n",
    "                   linewidth=1)\n",
    "\n",
    "sns.boxplot(x=\"sensors\", y='F0_minus_Fb_all_boutons', data=df_f0_sel,\n",
    "                 showfliers=False, \n",
    "                 linewidth=2,\n",
    "                 width=.6,\n",
    "                 #zorder=100,\n",
    "                 palette = colors,\n",
    "            ax=ax\n",
    "                )\n",
    "\n",
    "ax.set_xticklabels(['jGCaMP8f','jGCaMP8m','jGCaMP8s','jGCaMP7f'],rotation=45)\n",
    "\n",
    "\n",
    "\n",
    "# sb = sns.boxplot(x=\"Pipette\", y=value, data=df, ax = ax, boxprops=dict(alpha=0.4),showfliers=False)\n",
    "# ax.spines['right'].set_visible(False)\n",
    "# ax.spines['top'].set_visible(False)\n",
    "# ylabel = value + ' (\\u03BCm)'\n",
    "# ax.set_ylabel(ylabel,size=12)\n",
    "# ax.set_xlabel('Pipette #',size=12)\n",
    "\n",
    "# patches = ax.patches\n",
    "# lines_per_err = 3\n",
    "\n",
    "# for i, line in enumerate(ax.get_lines()):\n",
    "#     newcolor = patches[i // lines_per_err].get_facecolor()\n",
    "#     line.set_color(newcolor)\n",
    "# plt.xticks([0,1,2,3], ['jGCaMP7f','jGCaMP8f','jGCaMP8m','jGCaMP8s'], rotation=45, ha = 'right')\n",
    "\n",
    "\n",
    "ax.set_xlabel('')\n",
    "ax.set_ylabel('F0')\n",
    "\n",
    "# h_line = df[df.sensors=='GCaMP456'].Fb.mean()\n",
    "# ax.plot([-0.4,0.4],[h_line,h_line],color='k',linestyle='--')\n",
    "# h_line = df[df.sensors=='GCaMP686'].Fb.mean()\n",
    "# ax.plot([0.6,1.4],[h_line,h_line],color='k',linestyle='--')\n",
    "# h_line = df[df.sensors=='GCaMP688'].Fb.mean()\n",
    "# ax.plot([1.6,2.4],[h_line,h_line],color='k',linestyle='--')\n",
    "# h_line = df[df.sensors=='GCaMP7f'].Fb.mean()\n",
    "# ax.plot([2.6,3.4],[h_line,h_line],color='k',linestyle='--')\n",
    "\n",
    "plt.tight_layout()\n",
    "# fig.savefig('/Users/zhengj10/Desktop/F0.png')\n",
    "# fig.savefig('/Users/zhengj10/Desktop/F0-Fb.pdf',format='pdf')\n",
    "plt.show()\n"
   ]
  },
  {
   "cell_type": "code",
   "execution_count": null,
   "metadata": {},
   "outputs": [],
   "source": [
    "df"
   ]
  },
  {
   "cell_type": "code",
   "execution_count": null,
   "metadata": {},
   "outputs": [],
   "source": [
    "df_sel_sensors"
   ]
  },
  {
   "cell_type": "code",
   "execution_count": null,
   "metadata": {},
   "outputs": [],
   "source": [
    "df[df.Sensor=='GCaMP456'].Fb.mean()"
   ]
  },
  {
   "cell_type": "code",
   "execution_count": null,
   "metadata": {},
   "outputs": [],
   "source": [
    "colors"
   ]
  },
  {
   "cell_type": "code",
   "execution_count": null,
   "metadata": {},
   "outputs": [],
   "source": [
    "figOrders = ['GCaMP456','GCaMP686','GCaMP688','GCaMP7f']\n",
    "for sensor in(figOrders):\n",
    "    df_sensor = df[df['Sensor']==sensor]\n",
    "    mean_fb = np.nanmean(df_sensor['Fb'].to_list())\n",
    "    sem_fb = np.nanstd(df_sensor['Fb'].to_list())/np.sqrt(len(df_sensor))\n",
    "    print(sensor,mean_fb)"
   ]
  },
  {
   "cell_type": "code",
   "execution_count": null,
   "metadata": {},
   "outputs": [],
   "source": [
    "figOrders"
   ]
  },
  {
   "cell_type": "code",
   "execution_count": null,
   "metadata": {},
   "outputs": [],
   "source": []
  },
  {
   "cell_type": "code",
   "execution_count": null,
   "metadata": {},
   "outputs": [],
   "source": []
  },
  {
   "cell_type": "code",
   "execution_count": null,
   "metadata": {},
   "outputs": [],
   "source": []
  },
  {
   "cell_type": "code",
   "execution_count": null,
   "metadata": {},
   "outputs": [],
   "source": []
  },
  {
   "cell_type": "markdown",
   "metadata": {},
   "source": [
    "### Compute the half rise time and half decay time"
   ]
  },
  {
   "cell_type": "code",
   "execution_count": null,
   "metadata": {},
   "outputs": [],
   "source": [
    "def computeHR(A): # A is all dffTraces with 393 total frames (12 frames deleted from raw)\n",
    "    trace20Hz = A[4,:,:]\n",
    "    idxList = []\n",
    "    idxPeakList = []\n",
    "    hfriseList = []\n",
    "    for roi in range(trace20Hz.shape[0]):\n",
    "        trace = trace20Hz[roi, :]## Must use store the data in another variable othersise np.abs does not work!\n",
    "        peak = np.max(trace)\n",
    "        idxPeak = (np.abs(trace-peak)).argmin()\n",
    "\n",
    "        median = peak/2.0\n",
    "        idxMedian = (np.abs(trace[:idxPeak]-median)).argmin()\n",
    "#         print(idxMedian)\n",
    "        hfrise = (idxMedian-416)/128.5\n",
    "#         hfrise = idxMedian/131.58 - 3.5278\n",
    "        idxList.append(idxMedian)\n",
    "        idxPeakList.append(idxPeak)\n",
    "        hfriseList.append(hfrise)     \n",
    "    return idxList, idxPeakList, hfriseList\n"
   ]
  },
  {
   "cell_type": "code",
   "execution_count": null,
   "metadata": {},
   "outputs": [],
   "source": [
    "# def computeHR(A): # A is all dffTraces with 393 total frames (12 frames deleted from raw)\n",
    "#     trace20Hz = A[6,:,:]\n",
    "#     idxList = []\n",
    "#     idxPeakList = []\n",
    "#     hfriseList = []\n",
    "#     for roi in range(trace20Hz.shape[0]):\n",
    "#         trace = trace20Hz[roi, :] ## Must use store the data in another variable othersise np.abs does not work!\n",
    "#         peak = np.max(trace)\n",
    "#         idxPeak = (np.abs(trace-peak)).argmin()\n",
    "#         median = peak/2.0\n",
    "#         idxMedian = (np.abs(trace[:idxPeak]-median)).argmin()\n",
    "#         frameCount = idxMedian - (int(3.5278 * 30.303)-12)\n",
    "#         hfrise = frameCount/30.303\n",
    "#         idxList.append(idxMedian)\n",
    "#         idxPeakList.append(idxPeak)\n",
    "#         hfriseList.append(hfrise)     \n",
    "#     return idxList, idxPeakList, hfriseList\n"
   ]
  },
  {
   "cell_type": "code",
   "execution_count": null,
   "metadata": {},
   "outputs": [],
   "source": [
    "def computeHD(A): # A is all dffTraces with 393 total frames (12 frames deleted from raw)\n",
    "    trace20Hz = A[4,:,:]\n",
    "#     traceStartFrame = int(5.5278 * 128.5 - 12) # Get the frame # when the stimulation ends\n",
    "#     print(traceStartFrame)\n",
    "    traceStartFrame = 670\n",
    "#     traceStartFrame = 418\n",
    "    decayTrace = trace20Hz[:, traceStartFrame:traceStartFrame+250] # If use all the data \n",
    "#     decayTrace = trace20Hz[:, traceStartFrame:traceStartFrame+85]\n",
    "    idxList = []\n",
    "    hfdecayList = []\n",
    "    for roi in range(decayTrace.shape[0]):\n",
    "        trace = decayTrace[roi, :] ## Must use store the data in another variable othersise np.abs does not work!\n",
    "        peak_val = np.max(trace)\n",
    "        value = peak_val/2.0\n",
    "#         value = trace[0]/2.0\n",
    "#         print trace[0]\n",
    "        idx = (np.abs(trace-value)).argmin()\n",
    "        halfDecay = idx/128.5\n",
    "        idxList.append(idx)\n",
    "        hfdecayList.append(halfDecay)     \n",
    "    return idxList, hfdecayList\n"
   ]
  },
  {
   "cell_type": "code",
   "execution_count": null,
   "metadata": {},
   "outputs": [],
   "source": [
    "plt.plot(np.mean(dffAll['GCaMP456'][4,:,:],axis=0)[670:874])\n",
    "plt.title('jGCaMP456')\n",
    "# plt.savefig('/Users/zhengj10/Desktop/456_mean.png')\n",
    "plt.show()"
   ]
  },
  {
   "cell_type": "code",
   "execution_count": null,
   "metadata": {},
   "outputs": [],
   "source": [
    "sensors = []\n",
    "# hr_val = []\n",
    "hd_val = []\n",
    "figOrders = ['GCaMP456','GCaMP686','GCaMP688','GCaMP7f']\n",
    "for sensor in(figOrders):\n",
    "#     idxList, idxPeakList, hfriseList = computeHR(dffAll[sensor])\n",
    "    idxList, hfdecayList = computeHD(dffAll[sensor])\n",
    "    for i in hfdecayList:\n",
    "#     for i in hfriseList:\n",
    "        sensors.append(sensor)\n",
    "        hd_val.append(i)\n",
    "#         hr_val.append(i)\n",
    "        "
   ]
  },
  {
   "cell_type": "code",
   "execution_count": null,
   "metadata": {},
   "outputs": [],
   "source": [
    "df = pd.DataFrame({'sensor':sensors,'hd':hd_val})\n",
    "# df = pd.DataFrame({'sensor':sensors,'hr':hr_val})"
   ]
  },
  {
   "cell_type": "code",
   "execution_count": null,
   "metadata": {},
   "outputs": [],
   "source": [
    "df"
   ]
  },
  {
   "cell_type": "code",
   "execution_count": null,
   "metadata": {},
   "outputs": [],
   "source": [
    "colors = ['#0000ff', '#ff0000', '#666666', '#00ff00']\n",
    "\n",
    "fig = plt.figure(figsize=(3,4))\n",
    "ax  = plt.subplot(111)\n",
    "\n",
    "# sns.swarmplot(x=\"sensor\", y='hr', data=df, ax = ax, size=6, dodge=True, alpha=0.4, palette=colors)\n",
    "# ax = sns.barplot(x=\"sensor\", y='hr', data=df, ax = ax, alpha=0.4, palette=colors,capsize=0.3)\n",
    "\n",
    "\n",
    "sns.stripplot(ax = ax, x=\"sensor\", y='hd', data=df,\n",
    "                   size=5,\n",
    "                   alpha=0.5,\n",
    "                  #zorder=1,\n",
    "                  color='darkgray')\n",
    "\n",
    "sns.boxplot(x=\"sensor\", y='hd', data=df,\n",
    "                 showfliers=False, \n",
    "                 linewidth=2,\n",
    "                 width=.5,\n",
    "                 #zorder=100,\n",
    "                 palette = colors,\n",
    "            ax=ax\n",
    "                )\n",
    "\n",
    "\n",
    "ax.set_xticklabels(hits_label,rotation=45)\n",
    "\n",
    "\n",
    "\n",
    "# sb = sns.boxplot(x=\"Pipette\", y=value, data=df, ax = ax, boxprops=dict(alpha=0.4),showfliers=False)\n",
    "ax.spines['right'].set_visible(False)\n",
    "ax.spines['top'].set_visible(False)\n",
    "# ylabel = value + ' (\\u03BCm)'\n",
    "# ax.set_ylabel(ylabel,size=12)\n",
    "# ax.set_xlabel('Pipette #',size=12)\n",
    "\n",
    "# patches = ax.patches\n",
    "# lines_per_err = 3\n",
    "\n",
    "# for i, line in enumerate(ax.get_lines()):\n",
    "#     newcolor = patches[i // lines_per_err].get_facecolor()\n",
    "#     line.set_color(newcolor)\n",
    "# plt.xticks([0,1,2,3], ['jGCaMP8f','jGCaMP8m','jGCaMP8s','jGCaMP7f'], rotation=45, ha = 'right')\n",
    "ax.set_xlabel('')\n",
    "ax.set_ylabel('Half decay time (s) 40 Hz',fontdict=dict(weight='normal'))\n",
    "\n",
    "plt.tight_layout()\n",
    "# fig.savefig('/Users/zhengj10/Desktop/hr.png')\n",
    "# fig.savefig('/Users/zhengj10/Desktop/hd.pdf',format='pdf')\n",
    "plt.show()\n"
   ]
  },
  {
   "cell_type": "code",
   "execution_count": null,
   "metadata": {},
   "outputs": [],
   "source": [
    "colors"
   ]
  },
  {
   "cell_type": "code",
   "execution_count": null,
   "metadata": {},
   "outputs": [],
   "source": [
    "# fig = plt.figure(figsize=(3,4))\n",
    "# # hfriseMean = []\n",
    "# # hfriseSem = []\n",
    "# # figOrders = ['GCaMP7f','GCaMP456','GCaMP455','GCaMP712','GCaMP543','GCaMP640','GCaMP688','GCaMP707','GCaMP686','XCaMP']\n",
    "\n",
    "# # for sensor in(figOrders):\n",
    "# # #     idxList, idxPeakList, hfriseList = computeHR(dffAll[sensor][:,:,params['shutterCloseFrames']:])\n",
    "# #     idxList, idxPeakList, hfriseList = computeHR(dffAll[sensor])\n",
    "# #     mean = np.mean(hfriseList)\n",
    "# #     sem = np.std(hfriseList)/(len(hfriseList)-1)\n",
    "# #     hfriseMean.append(mean)\n",
    "# #     hfriseSem.append(sem)\n",
    "    \n",
    "\n",
    "# hr_data = {}\n",
    "\n",
    "# for sensor in(figOrders):\n",
    "#     idxList, idxPeakList, hfriseList = computeHR(dffAll[sensor])\n",
    "#     for i in hfriseList[sensor]:\n",
    "#         sensors.append(sensor)\n",
    "#         hr_val.append(i)\n",
    "        \n",
    "        \n",
    "        \n",
    "# ax = plt.subplot(1, 1, 1)\n",
    "# ax.spines['right'].set_visible(False)\n",
    "# ax.spines['top'].set_visible(False)\n",
    "# y_pos = np.arange(1, len(figOrders)+1)\n",
    "# plt.xticks(y_pos, figOrders, rotation=45, ha = 'right' )\n",
    "# # colors = ['k', 'y', 'm', 'c', 'g', 'r', 'b', 'brown']\n",
    "# # for xtick, color in zip(ax.get_xticklabels(), colors):\n",
    "# #     xtick.set_color(color)\n",
    "# ax.set_ylabel('Half rise time (s) 80 Hz')\n",
    "# barlist = ax.bar(y_pos, hfriseMean, yerr = hfriseSem,color=colors)\n",
    "# # barlist[0].set_color('k')\n",
    "# # barlist[1].set_color('y')\n",
    "# # barlist[2].set_color('m')\n",
    "# # barlist[3].set_color('c')\n",
    "# # barlist[4].set_color('g')\n",
    "# # barlist[5].set_color('r')\n",
    "# # barlist[6].set_color('b')\n",
    "# # barlist[7].set_color('brown')\n",
    "# plt.rcParams[\"axes.labelweight\"] = \"light\"\n",
    "# plt.tight_layout()\n",
    "# plt.show()\n",
    "# # fig.savefig('/Users/zhengj10/Desktop/210427/uf-GCaMP_hr.png')\n"
   ]
  },
  {
   "cell_type": "code",
   "execution_count": null,
   "metadata": {},
   "outputs": [],
   "source": [
    "len(y_pos)"
   ]
  },
  {
   "cell_type": "code",
   "execution_count": null,
   "metadata": {},
   "outputs": [],
   "source": [
    "figOrders"
   ]
  },
  {
   "cell_type": "code",
   "execution_count": null,
   "metadata": {},
   "outputs": [],
   "source": [
    "fig = plt.figure(figsize=(4,3))\n",
    "hfdecayMean = []\n",
    "hfdecaySem = []\n",
    "for sensor in(figOrders):\n",
    "    idxList, hfdecayList = computeHD(dffAll[sensor])\n",
    "    mean = np.mean(hfdecayList)\n",
    "    sem = np.std(hfdecayList)/(len(hfriseList)-1)\n",
    "    hfdecayMean.append(mean)\n",
    "    hfdecaySem.append(sem)\n",
    "ax = plt.subplot(1, 1, 1)\n",
    "ax.spines['right'].set_visible(False)\n",
    "ax.spines['top'].set_visible(False)\n",
    "y_pos = np.arange(1, len(dffAll)+1)\n",
    "plt.xticks(y_pos, figOrders, rotation = 30, ha = 'right')\n",
    "# colors = ['k', 'y', 'm', 'c', 'g', 'r', 'b', 'brown']\n",
    "# for xtick, color in zip(ax.get_xticklabels(), colors):\n",
    "#     xtick.set_color(color)\n",
    "ax.set_ylabel('Half decay time (s)', size=12)\n",
    "barlist = ax.bar(y_pos, hfdecayMean, yerr = hfriseSem)\n",
    "# barlist[0].set_color('k')\n",
    "# barlist[1].set_color('y')\n",
    "# barlist[2].set_color('m')\n",
    "# barlist[3].set_color('c')\n",
    "# barlist[4].set_color('g')\n",
    "# barlist[5].set_color('r')\n",
    "# barlist[6].set_color('b')\n",
    "# barlist[7].set_color('brown')\n",
    "plt.rcParams[\"axes.labelweight\"] = \"light\"\n",
    "plt.tight_layout()\n",
    "plt.show()\n",
    "# fig.savefig(savePath + '/' + 'uf-GCaMP_1-320Hz_hd.png', dpi = 600)\n"
   ]
  },
  {
   "cell_type": "markdown",
   "metadata": {},
   "source": [
    "### Comparison of GCaMP6s and GCaMP7s at 1Hz"
   ]
  },
  {
   "cell_type": "code",
   "execution_count": null,
   "metadata": {},
   "outputs": [],
   "source": [
    "# figPos = 0\n",
    "# sensors = ['GCaMP6s', 'GCaMP7s']\n",
    "# fig = plt.figure(figsize=(len(sensors)*3, 4))\n",
    "# ax = plt.subplot(1, 3, 1)\n",
    "# ax.plot([8,8,10], [0.04,-0.01,-0.01], color='k', lw=1)\n",
    "# ax.set_xlim([-0.51315, 11.50215])\n",
    "# ax.set_ylim([-0.08253471782803537, 0.19322907438874246])\n",
    "\n",
    "# ax.axis('off')\n",
    "\n",
    "# # (-0.51315, 11.50215) xlim in trace plot\n",
    "# # (-0.125, 0.14000000000000001) ylim in trace plot\n",
    "# for sensor in(sensors):\n",
    "#     figPos += 1\n",
    "#     trace = dffAll[sensor]\n",
    "# #     ax_sb = plt.subplot(1, len(sensors)+1, figPos)\n",
    "# #     ax_sb.plot(np.arange(1, trace.shape[2] + 1 -params['truncatedFrames'])/params['frameRate'], np.zeros(trace.shape[2]- params['truncatedFrames']), lw = 0)\n",
    "# #     ax_sb.plot([-2, -2, 0], [0.05, -0.05, -0.05], color = 'k')\n",
    "# #     ax_sb.axis('off')\n",
    "# #     ax_sb.set_ylim([-0.075, 0.19])\n",
    "#     ax = plt.subplot(1, len(sensors)+1, figPos+1)\n",
    "    \n",
    "\n",
    "#     for roi in range(trace.shape[1]):\n",
    "#         if sensor == 'GCaMP6s' and np.max(trace[0, roi, :]) > 0.05: # Use this code only if no. of badrois equals 1\n",
    "#             badRoi = roi\n",
    "#             continue\n",
    "#         if sensor == 'GCaMP6s':\n",
    "#             ax.plot(np.arange(1, len(trace[0, roi, :])+1-params['truncatedFrames']) * params['frameInterval'] / 1000, trace[0, roi, params['truncatedFrames']:], lw=0.7, color = 'lightgrey')\n",
    "#         else:\n",
    "#             ax.plot(np.arange(1, len(trace[0, roi, :])+1-params['truncatedFrames'])* params['frameInterval'] / 1000, trace[0, roi, params['truncatedFrames']:], lw=0.7, color = 'pink')\n",
    "#         ax.set_title(sensor)\n",
    "\n",
    "#     if sensor == 'GCaMP6s':\n",
    "        \n",
    "#         trace = np.delete(trace, badRoi, axis=1)\n",
    "#         roi -= 1\n",
    "#         ax.plot(np.arange(1, len(trace[0, roi, :])+1-params['truncatedFrames']) * params['frameInterval'] / 1000, np.mean(trace[0, :, params['truncatedFrames']:], axis = 0), lw=1, color = 'k')\n",
    "#     else:\n",
    "#         ax.plot(np.arange(1, len(trace[0, roi, :])+1-params['truncatedFrames']) * params['frameInterval'] / 1000, np.mean(trace[0, :, params['truncatedFrames']:], axis = 0), lw=1, color = 'r')\n",
    "#     ax.plot([1, 1], [-0.04, -0.07], color = 'k', lw = 1)\n",
    "#     ax.plot([2, 2], [-0.04, -0.07], color = 'k', lw = 1)\n",
    "#     ax.axis('off')\n",
    "#     ax.set_ylim([-0.08253471782803537, 0.19322907438874246])\n",
    "#     ax.set_xlim([-0.51315, 11.50215])\n",
    "# # plt.tight_layout()\n",
    "# plt.show()\n",
    "# # print ax.get_xlim()\n",
    "# # print ax.get_ylim()\n",
    "\n",
    "# # fig.savefig('/Users/zhengj10/Desktop/data/dff_1Hz_VK00005.png', dpi = 1200)\n"
   ]
  },
  {
   "cell_type": "code",
   "execution_count": null,
   "metadata": {},
   "outputs": [],
   "source": [
    "# figPos = 0\n",
    "# sensors = ['GCaMP6s', 'GCaMP7s']\n",
    "# fig = plt.figure(figsize=(len(sensors)*3, 4))\n",
    "# ax = plt.subplot(1, 3, 1)\n",
    "# ax.plot([8,8,10], [0,-0.05,-0.05], color='k', lw=1)\n",
    "# ax.set_xlim([-0.51315, 11.50215])\n",
    "# ax.set_ylim([-0.08253471782803537, 0.19322907438874246])\n",
    "\n",
    "# ax.axis('off')\n",
    "\n",
    "# # (-0.51315, 11.50215) xlim in trace plot\n",
    "# # (-0.125, 0.14000000000000001) ylim in trace plot\n",
    "# for sensor in(sensors):\n",
    "#     figPos += 1\n",
    "#     trace = dffAll[sensor]\n",
    "# #     ax_sb = plt.subplot(1, len(sensors)+1, figPos)\n",
    "# #     ax_sb.plot(np.arange(1, trace.shape[2] + 1 -params['truncatedFrames'])/params['frameRate'], np.zeros(trace.shape[2]- params['truncatedFrames']), lw = 0)\n",
    "# #     ax_sb.plot([-2, -2, 0], [0.05, -0.05, -0.05], color = 'k')\n",
    "# #     ax_sb.axis('off')\n",
    "# #     ax_sb.set_ylim([-0.075, 0.19])\n",
    "#     ax = plt.subplot(1, len(sensors)+1, figPos+1)\n",
    "    \n",
    "\n",
    "#     for roi in range(trace.shape[1]):\n",
    "#         ax.plot(np.arange(1, len(trace[0, roi, :])+1-params['truncatedFrames']) * params['frameInterval'] / 1000, trace[0, roi, params['truncatedFrames']:], lw=0.7, color = 'lightgrey')\n",
    "        \n",
    "#     ax.plot(np.arange(1, len(trace[0, roi, :])+1-params['truncatedFrames']) * params['frameInterval'] / 1000, np.mean(trace[0, :, params['truncatedFrames']:], axis = 0), lw=1, color = 'k')    \n",
    "#     ax.set_title(sensor)\n",
    "\n",
    "#     ax.plot([1, 1], [-0.04, -0.07], color = 'k', lw = 1)\n",
    "#     ax.plot([2, 2], [-0.04, -0.07], color = 'k', lw = 1)\n",
    "#     ax.axis('off')\n",
    "#     ax.set_ylim([-0.08253471782803537, 0.19322907438874246])\n",
    "#     ax.set_xlim([-0.51315, 11.50215])\n",
    "# # plt.tight_layout()\n",
    "# plt.show()\n",
    "# # print ax.get_xlim()\n",
    "# # print ax.get_ylim()\n",
    "\n",
    "# # fig.savefig('/Users/zhengj10/Desktop/data/dff_1Hz.png', dpi = 1200)\n"
   ]
  },
  {
   "cell_type": "markdown",
   "metadata": {},
   "source": [
    "### Report generation"
   ]
  },
  {
   "cell_type": "code",
   "execution_count": null,
   "metadata": {},
   "outputs": [],
   "source": [
    "fov_col = df_sorted.groupby('Sensor').count()['FOV_ID'] # No. of FOVs\n",
    "larva_col = df_sorted.groupby(['Sensor', 'Date', 'Larva_ID']).count().groupby('Sensor').count()['GenoType'] # No. of larvae\n",
    "bouton_col = df_sorted.groupby('Sensor').sum()['No_boutons'] # No. of ROIs (Ib buttons)\n",
    "df_summary = pd.DataFrame({'Sensor': fov_col.index, 'No_larvae': larva_col.values, 'No_FOV': fov_col.values, 'No_boutons':bouton_col.values}, columns = ['Sensor', 'No_larvae', 'No_FOV', 'No_boutons'])\n",
    "df_summary.index = np.arange(1, len(df_summary)+1)\n",
    "df_summary.to_excel('/Users/zhengj10/Desktop/uf-GCaMP_1-320Hz_summary_report.xlsx')\n",
    "df_summary\n"
   ]
  },
  {
   "cell_type": "code",
   "execution_count": null,
   "metadata": {},
   "outputs": [],
   "source": []
  },
  {
   "cell_type": "code",
   "execution_count": null,
   "metadata": {},
   "outputs": [],
   "source": [
    "qq = df_sorted.groupby('Sensor').count()['FOV_ID']"
   ]
  },
  {
   "cell_type": "code",
   "execution_count": null,
   "metadata": {},
   "outputs": [],
   "source": [
    "# df_allGT = pd.DataFrame(columns = ['GenoType', 'LS', 'Sensor', 'No_larvae', 'No_FOV', 'No_buttons'])\n",
    "\n",
    "# for ls in ['su(Hw)attP5', 'su(Hw)attP8', 'VK00005']:\n",
    "\n",
    "#     df_sorted = df[df.Father_line_landing_site==ls]\n",
    "#     a = df_sorted.groupby('Sensor')\n",
    "#     b = a.GenoType.value_counts()\n",
    "#     c = b.unstack(level=0)\n",
    "#     fov_col = df_sorted.groupby('Sensor').count()['FOV_ID'] # No. of FOVs\n",
    "#     larva_col = df_sorted.groupby(['Sensor', 'Date', 'Larva_ID']).count().groupby('Sensor').count()['GenoType'] # No. of larvae\n",
    "#     button_col = df_sorted.groupby('Sensor').sum()['No_buttons'] # No. of ROIs (Ib buttons)\n",
    "#     df_summary = pd.DataFrame({'GenoType': c.index, 'LS': df_sorted.Father_line_landing_site[:len(fov_col)], 'Sensor': fov_col.index, 'No_larvae': larva_col.values, 'No_FOV': fov_col.values, 'No_buttons':button_col.values}, columns = ['GenoType', 'LS', 'Sensor', 'No_larvae', 'No_FOV', 'No_buttons'])\n",
    "#     df_allGT = df_allGT.append(df_summary, ignore_index = True)\n",
    "\n",
    "# # df = pd.read_excel(imgPath + 'summary.xlsx', index_col = 0)\n",
    "# # df_new = pd.DataFrame(sessionInfo, columns = list(df), index = ['i',]) # columns specification keep the order of columns; index specification makes sure dict keys are the columns \n",
    "# # df = df.append(df_new, ignore_index = True)\n",
    "# # df.index = np.arange(1, len(df)+1)\n",
    "# df_allGT.index = np.arange(1, len(df_allGT)+1)\n",
    "# df_allGT\n"
   ]
  },
  {
   "cell_type": "code",
   "execution_count": null,
   "metadata": {},
   "outputs": [],
   "source": [
    "# df_allGT.to_excel('/Users/zhengj10/Desktop/summary.xlsx')"
   ]
  },
  {
   "cell_type": "code",
   "execution_count": null,
   "metadata": {},
   "outputs": [],
   "source": []
  },
  {
   "cell_type": "markdown",
   "metadata": {},
   "source": [
    "### Stylize table"
   ]
  },
  {
   "cell_type": "code",
   "execution_count": null,
   "metadata": {},
   "outputs": [],
   "source": [
    "# import six\n",
    "\n",
    "# # df = pd.DataFrame()\n",
    "# # df['date'] = ['2016-04-01', '2016-04-02', '2016-04-03']\n",
    "# # df['calories'] = [2200, 2100, 1500]\n",
    "# # df['sleep hours'] = [2200, 2100, 1500]\n",
    "# # df['gym'] = [True, False, False]\n",
    "\n",
    "\n",
    "# def render_mpl_table(data, col_width=5.0, row_height=0.6, font_size=14,\n",
    "#                      header_color='#353535', row_colors=['#f1f1f2', 'w'], edge_color='w',\n",
    "#                      bbox=[0, 0, 1, 1], header_columns=0,\n",
    "#                      ax=None, **kwargs):\n",
    "#     if ax is None:\n",
    "#         size = (np.array(data.shape[::-1]) + np.array([0, 1])) * np.array([col_width, row_height])\n",
    "#         fig, ax = plt.subplots(figsize=size)\n",
    "#         ax.axis('off')\n",
    "\n",
    "#     mpl_table = ax.table(cellText=data.values, bbox=bbox, colLabels=data.columns, **kwargs)\n",
    "\n",
    "#     mpl_table.auto_set_font_size(False)\n",
    "#     mpl_table.set_fontsize(font_size)\n",
    "\n",
    "#     for k, cell in  six.iteritems(mpl_table._cells):\n",
    "#         cell.set_edgecolor(edge_color)\n",
    "#         if k[0] == 0 or k[1] < header_columns:\n",
    "#             cell.set_text_props(weight='bold', color='w')\n",
    "#             cell.set_facecolor(header_color)\n",
    "#         else:\n",
    "#             cell.set_facecolor(row_colors[k[0]%len(row_colors) ])\n",
    "#     return ax\n",
    "# # render_mpl_table(df, header_columns=0, col_width=2.0)\n"
   ]
  },
  {
   "cell_type": "code",
   "execution_count": null,
   "metadata": {},
   "outputs": [],
   "source": [
    "# sumTable = render_mpl_table(df_allGT, header_columns=0, col_width=2.0)\n"
   ]
  },
  {
   "cell_type": "markdown",
   "metadata": {},
   "source": [
    "### Power spectra"
   ]
  },
  {
   "cell_type": "code",
   "execution_count": null,
   "metadata": {},
   "outputs": [],
   "source": [
    "from scipy import fftpack\n",
    "import numpy as np\n",
    "def normalized_fourier_transform(cdata):\n",
    "        #cdata = intensity data over time\n",
    "        #N = (end_time - start_time)*sampling_rate # array size\n",
    "        #print('length of cdata', str(len(cdata)))\n",
    "        N = len(cdata)\n",
    "        X=fftpack.fft(cdata)\n",
    "        #print('length of x:' + str(len(X)))\n",
    "        y = 2/N * np.abs(X[0:np.int(N/2)]) # positive freqs only\n",
    "        T = 1/128.5 # inverse of the sampling rate\n",
    "        x = np.linspace(0.0, 1.0/(2.0*T), int(N/2))\n",
    "        #print('x length:', str(len(x)))\n",
    "        #print('y length:', str(len(y)))\n",
    "        y = np.abs(y)/np.sum(np.abs(y))\n",
    "        return x, y"
   ]
  },
  {
   "cell_type": "code",
   "execution_count": null,
   "metadata": {},
   "outputs": [],
   "source": [
    "dffAll[sensor][1][0].shape"
   ]
  },
  {
   "cell_type": "code",
   "execution_count": null,
   "metadata": {},
   "outputs": [],
   "source": [
    "freqs, power =  normalized_fourier_transform(dffAll[sensor][1][0][410:650])"
   ]
  },
  {
   "cell_type": "code",
   "execution_count": null,
   "metadata": {},
   "outputs": [],
   "source": [
    "plt.plot(power)\n",
    "plt.xlim([1,20])\n",
    "plt.ylim([0,0.06])"
   ]
  },
  {
   "cell_type": "code",
   "execution_count": null,
   "metadata": {},
   "outputs": [],
   "source": [
    "plt.plot(dffAll[sensor][1][0][410:650])"
   ]
  },
  {
   "cell_type": "code",
   "execution_count": null,
   "metadata": {},
   "outputs": [],
   "source": [
    "import numpy as np\n",
    "import matplotlib.pyplot as plt\n",
    "import scipy.fftpack"
   ]
  },
  {
   "cell_type": "code",
   "execution_count": null,
   "metadata": {},
   "outputs": [],
   "source": [
    "sns.reset_orig()\n",
    "figOrders = ['GCaMP456','GCaMP686','GCaMP688','GCaMP7f']\n",
    "fig = plt.figure(figsize=[3,4])\n",
    "import scipy.fftpack\n",
    "N = 240\n",
    "# sample spacing\n",
    "T = 1.0 / 128.5\n",
    "x = np.linspace(0, N*T, N)\n",
    "ax = plt.subplot(111)\n",
    "trial = 3\n",
    "for sensor in figOrders:\n",
    "    yf_sensor = []\n",
    "    for roi in range(dffAll[sensor][trial].shape[0]):\n",
    "        y = dffAll[sensor][trial][0][410:650]\n",
    "        yf = scipy.fftpack.fft(y)\n",
    "        xf = np.linspace(0.0, 1.0/(2.0*T), N//2)\n",
    "        yf_sensor.append(yf)\n",
    "    yf = np.mean(yf_sensor,axis=0)\n",
    "    yf_sem = np.std(yf_sensor,axis=0)\n",
    "    ax.plot(xf, 2.0/N * np.abs(yf[:N//2]), color=colorMap[sensor])\n",
    "    ax.fill_between(xf, (2.0/N * np.abs(yf[:N//2]))+(2.0/N * np.abs(yf_sem[:N//2])),\n",
    "                    (2.0/N * np.abs(yf[:N//2]))-(2.0/N * np.abs(yf_sem[:N//2])),\n",
    "                    color = 'k',alpha=1)\n",
    "\n",
    "ax.set_xlabel('Frequency (Hz)',fontdict=dict(weight='normal'))\n",
    "ax.set_ylabel('Norm. amplitude spectrum',fontdict=dict(weight='normal'))\n",
    "# ax.set_ylim([-0.01,0.17]) # for 1 Hz\n",
    "ax.set_ylim([-0.01,0.26])\n",
    "ax.set_xlim([0,25])\n",
    "# ax.set_xlim([0,5]) # for 1 Hz\n",
    "\n",
    "ax.set_title('20 Hz')\n",
    "ax.spines['right'].set_visible(False)\n",
    "ax.spines['top'].set_visible(False)\n",
    "plt.tight_layout()\n",
    "fig.savefig('/Users/zhengj10/Desktop/power_20Hz.pdf',format='pdf')\n",
    "# fig.savefig('C:\\\\Users\\\\zhengj10\\\\Desktop\\\\NMJ\\\\power_20Hz.pdf',format='pdf')\n",
    "plt.show()\n"
   ]
  },
  {
   "cell_type": "code",
   "execution_count": null,
   "metadata": {},
   "outputs": [],
   "source": [
    "colors"
   ]
  },
  {
   "cell_type": "code",
   "execution_count": null,
   "metadata": {},
   "outputs": [],
   "source": [
    "# np.linspace(0.0,0.5,100.0)"
   ]
  },
  {
   "cell_type": "code",
   "execution_count": null,
   "metadata": {},
   "outputs": [],
   "source": [
    "dffAll['GCaMP688'][0].shape"
   ]
  },
  {
   "cell_type": "code",
   "execution_count": null,
   "metadata": {},
   "outputs": [],
   "source": []
  },
  {
   "cell_type": "code",
   "execution_count": null,
   "metadata": {},
   "outputs": [],
   "source": [
    "yf_sem"
   ]
  },
  {
   "cell_type": "code",
   "execution_count": null,
   "metadata": {},
   "outputs": [],
   "source": []
  }
 ],
 "metadata": {
  "kernelspec": {
   "display_name": "Python 3",
   "language": "python",
   "name": "python3"
  },
  "language_info": {
   "codemirror_mode": {
    "name": "ipython",
    "version": 3
   },
   "file_extension": ".py",
   "mimetype": "text/x-python",
   "name": "python",
   "nbconvert_exporter": "python",
   "pygments_lexer": "ipython3",
   "version": "3.8.8"
  }
 },
 "nbformat": 4,
 "nbformat_minor": 1
}
