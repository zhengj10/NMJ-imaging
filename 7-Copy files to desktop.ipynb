{
 "cells": [
  {
   "cell_type": "code",
   "execution_count": 5,
   "metadata": {},
   "outputs": [],
   "source": [
    "imgPath = '/Volumes/genie/Jihong_GENIE_stuff/NMJ/uf-GCaMP/'\n",
    "destPath = '/Users/zhengj10/Desktop/Recent data/NMJ/ufGCaMP/'\n"
   ]
  },
  {
   "cell_type": "code",
   "execution_count": 11,
   "metadata": {},
   "outputs": [],
   "source": [
    "import os\n",
    "import numpy as np\n",
    "import pandas as pd\n",
    "import shutil\n",
    "from glob import glob"
   ]
  },
  {
   "cell_type": "code",
   "execution_count": 12,
   "metadata": {},
   "outputs": [],
   "source": [
    "def getSessionInfo(imgPath):\n",
    "    filePath = [d for d in os.listdir(imgPath) if os.path.isdir(os.path.join(imgPath, d))]\n",
    "    return filePath\n"
   ]
  },
  {
   "cell_type": "code",
   "execution_count": 13,
   "metadata": {},
   "outputs": [
    {
     "data": {
      "text/plain": [
       "['210111', '210112', '210113', '210125', '210126', '210127', '210204']"
      ]
     },
     "execution_count": 13,
     "metadata": {},
     "output_type": "execute_result"
    }
   ],
   "source": [
    "datePath = getSessionInfo(imgPath)\n",
    "datePath = sorted(datePath)\n",
    "datePath[5:]"
   ]
  },
  {
   "cell_type": "code",
   "execution_count": null,
   "metadata": {},
   "outputs": [],
   "source": []
  },
  {
   "cell_type": "code",
   "execution_count": 17,
   "metadata": {},
   "outputs": [],
   "source": [
    "# shutil.rmtree(destPath)\n",
    "for date in datePath[5:]:\n",
    "    os.makedirs(destPath + date)\n",
    "    larvaID = getSessionInfo(os.path.join(imgPath, date))\n",
    "    for larva in larvaID:\n",
    "        os.makedirs(destPath + date + '/' + larva)\n",
    "        fovPath = getSessionInfo(os.path.join(imgPath, date, larva))\n",
    "        for fov in fovPath:\n",
    "            os.makedirs(destPath + date + '/' + larva + '/'+ fov)\n",
    "            sumPath = os.path.join(imgPath, date, larva, fov, 'summary')\n",
    "            \n",
    "            destsumPath = os.path.join(destPath, date, larva, fov, 'summary')\n",
    "            os.makedirs(destsumPath)\n",
    "            \n",
    "            matFiles = glob(sumPath + '/*.mat')\n",
    "\n",
    "                \n",
    "            for matFile in matFiles:\n",
    "                \n",
    "           \n",
    "\n",
    "\n",
    "                shutil.copy(matFile, destsumPath)\n",
    "# shutil.copy(imgPath + 'summary.csv', destPath)"
   ]
  },
  {
   "cell_type": "code",
   "execution_count": null,
   "metadata": {
    "collapsed": true
   },
   "outputs": [],
   "source": []
  },
  {
   "cell_type": "code",
   "execution_count": null,
   "metadata": {
    "collapsed": true
   },
   "outputs": [],
   "source": []
  }
 ],
 "metadata": {
  "kernelspec": {
   "display_name": "Python 3",
   "language": "python",
   "name": "python3"
  },
  "language_info": {
   "codemirror_mode": {
    "name": "ipython",
    "version": 3
   },
   "file_extension": ".py",
   "mimetype": "text/x-python",
   "name": "python",
   "nbconvert_exporter": "python",
   "pygments_lexer": "ipython3",
   "version": "3.7.6"
  }
 },
 "nbformat": 4,
 "nbformat_minor": 2
}
