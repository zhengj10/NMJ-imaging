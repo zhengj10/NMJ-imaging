{
 "cells": [
  {
   "cell_type": "markdown",
   "metadata": {},
   "source": [
    "### Notes:\n",
    "- Move all sessions (grouped by date) to one folder"
   ]
  },
  {
   "cell_type": "markdown",
   "metadata": {
    "collapsed": true
   },
   "source": [
    "### Get session info"
   ]
  },
  {
   "cell_type": "code",
   "execution_count": 1,
   "metadata": {},
   "outputs": [],
   "source": [
    "imgPath = '/Volumes/genie/Jihong_GENIE_stuff/NMJ/LA-GCaMP/'\n",
    "\n",
    "params = {\n",
    "          'frameInterval': 33.0,\n",
    "          'shutterCloseFrames': 12, # No. of frames before shutter open\n",
    "          'truncatedFrames': 61,    # No. of frames to be further deleted for rendering 1s baseline in plot\n",
    "          'stimStart': 3527.8       # Time (in ms) when electrical stimulation is delivered\n",
    "         }\n"
   ]
  },
  {
   "cell_type": "markdown",
   "metadata": {},
   "source": [
    "### Import modules"
   ]
  },
  {
   "cell_type": "code",
   "execution_count": 2,
   "metadata": {},
   "outputs": [],
   "source": [
    "%matplotlib inline\n",
    "import matplotlib.pyplot as plt\n",
    "import os\n",
    "import numpy as np\n",
    "import pandas as pd\n",
    "import scipy.io as sio\n",
    "from glob import glob\n"
   ]
  },
  {
   "cell_type": "markdown",
   "metadata": {},
   "source": [
    "### Data sorting by sensor and averaging all ROIs each individual larva"
   ]
  },
  {
   "cell_type": "code",
   "execution_count": 3,
   "metadata": {},
   "outputs": [],
   "source": [
    "df = pd.read_excel(imgPath + 'summary_low_affinity_GCaMP_1-160Hz.xlsx', index_col = 0)\n",
    "pd.set_option('display.max_columns', 50)\n",
    "pd.set_option('display.max_colwidth', 10)\n",
    "# df\n"
   ]
  },
  {
   "cell_type": "code",
   "execution_count": 4,
   "metadata": {},
   "outputs": [],
   "source": [
    "def getSessionInfo(imgPath):\n",
    "    filePath = [d for d in os.listdir(imgPath) if os.path.isdir(os.path.join(imgPath, d))]\n",
    "    return filePath\n"
   ]
  },
  {
   "cell_type": "code",
   "execution_count": 5,
   "metadata": {},
   "outputs": [],
   "source": [
    "datePath = getSessionInfo(imgPath)\n",
    "datePath = sorted(datePath)\n"
   ]
  },
  {
   "cell_type": "code",
   "execution_count": 10,
   "metadata": {},
   "outputs": [
    {
     "name": "stdout",
     "output_type": "stream",
     "text": [
      "True\n",
      "True\n",
      "True\n",
      "True\n",
      "True\n",
      "True\n",
      "True\n",
      "True\n",
      "True\n",
      "True\n",
      "True\n",
      "True\n",
      "True\n",
      "True\n",
      "True\n",
      "True\n",
      "True\n",
      "True\n",
      "True\n",
      "True\n",
      "True\n",
      "True\n",
      "True\n",
      "True\n",
      "True\n",
      "True\n",
      "True\n",
      "True\n",
      "True\n",
      "True\n",
      "True\n",
      "True\n",
      "True\n",
      "True\n",
      "True\n",
      "True\n",
      "True\n",
      "True\n",
      "True\n",
      "True\n",
      "True\n",
      "True\n",
      "True\n",
      "True\n",
      "True\n",
      "True\n",
      "True\n",
      "True\n",
      "True\n",
      "True\n",
      "True\n",
      "True\n",
      "True\n",
      "True\n",
      "True\n",
      "True\n",
      "True\n"
     ]
    },
    {
     "ename": "ValueError",
     "evalue": "need at least one array to concatenate",
     "output_type": "error",
     "traceback": [
      "\u001b[0;31m---------------------------------------------------------------------------\u001b[0m",
      "\u001b[0;31mValueError\u001b[0m                                Traceback (most recent call last)",
      "\u001b[0;32m<ipython-input-10-4e12b6fbc90b>\u001b[0m in \u001b[0;36m<module>\u001b[0;34m\u001b[0m\n\u001b[1;32m     24\u001b[0m             \u001b[0mf0List\u001b[0m\u001b[0;34m.\u001b[0m\u001b[0mappend\u001b[0m\u001b[0;34m(\u001b[0m\u001b[0mf0Array\u001b[0m\u001b[0;34m[\u001b[0m\u001b[0;34m:\u001b[0m\u001b[0;36m7\u001b[0m\u001b[0;34m,\u001b[0m\u001b[0;34m:\u001b[0m\u001b[0;34m]\u001b[0m\u001b[0;34m)\u001b[0m \u001b[0;31m# Keep 1-160 Hz trials only\u001b[0m\u001b[0;34m\u001b[0m\u001b[0;34m\u001b[0m\u001b[0m\n\u001b[1;32m     25\u001b[0m             \u001b[0mi\u001b[0m\u001b[0;34m+=\u001b[0m\u001b[0;36m1\u001b[0m\u001b[0;34m\u001b[0m\u001b[0;34m\u001b[0m\u001b[0m\n\u001b[0;32m---> 26\u001b[0;31m         \u001b[0mdffAllROIs\u001b[0m \u001b[0;34m=\u001b[0m \u001b[0mnp\u001b[0m\u001b[0;34m.\u001b[0m\u001b[0mconcatenate\u001b[0m\u001b[0;34m(\u001b[0m\u001b[0mdffList\u001b[0m\u001b[0;34m,\u001b[0m \u001b[0maxis\u001b[0m\u001b[0;34m=\u001b[0m\u001b[0;36m1\u001b[0m\u001b[0;34m)\u001b[0m\u001b[0;34m\u001b[0m\u001b[0;34m\u001b[0m\u001b[0m\n\u001b[0m\u001b[1;32m     27\u001b[0m         \u001b[0mf0AllROIs\u001b[0m \u001b[0;34m=\u001b[0m \u001b[0mnp\u001b[0m\u001b[0;34m.\u001b[0m\u001b[0mconcatenate\u001b[0m\u001b[0;34m(\u001b[0m\u001b[0mf0List\u001b[0m\u001b[0;34m,\u001b[0m \u001b[0maxis\u001b[0m\u001b[0;34m=\u001b[0m\u001b[0;36m1\u001b[0m\u001b[0;34m)\u001b[0m\u001b[0;34m\u001b[0m\u001b[0;34m\u001b[0m\u001b[0m\n\u001b[1;32m     28\u001b[0m         \u001b[0mdffMean\u001b[0m \u001b[0;34m=\u001b[0m \u001b[0mnp\u001b[0m\u001b[0;34m.\u001b[0m\u001b[0mmean\u001b[0m\u001b[0;34m(\u001b[0m\u001b[0mdffAllROIs\u001b[0m\u001b[0;34m,\u001b[0m \u001b[0maxis\u001b[0m \u001b[0;34m=\u001b[0m \u001b[0;36m1\u001b[0m\u001b[0;34m)\u001b[0m\u001b[0;34m\u001b[0m\u001b[0;34m\u001b[0m\u001b[0m\n",
      "\u001b[0;32m<__array_function__ internals>\u001b[0m in \u001b[0;36mconcatenate\u001b[0;34m(*args, **kwargs)\u001b[0m\n",
      "\u001b[0;31mValueError\u001b[0m: need at least one array to concatenate"
     ]
    }
   ],
   "source": [
    "i = 0\n",
    "dff_all = {}\n",
    "for date in datePath:\n",
    "    larvaID = getSessionInfo(os.path.join(imgPath, date))\n",
    "    larvaID = sorted(larvaID)\n",
    "    for larva in larvaID:\n",
    "        fovPath = getSessionInfo(os.path.join(imgPath, date, larva))\n",
    "        dffList = []\n",
    "        f0List = []\n",
    "        for fov in fovPath:\n",
    "            sumPath = os.path.join(imgPath, date, larva, fov, 'summary')\n",
    "            matFile = sumPath + '/_dff.mat'\n",
    "            print(os.path.exists(matFile))\n",
    "            if not os.path.exists(matFile):\n",
    "                print (sumPath)\n",
    "                continue\n",
    "            dffSingleFOV = sio.loadmat(matFile)\n",
    "            dffArray = dffSingleFOV['dff']\n",
    "            dffList.append(dffArray[:7,:,:]) # Keep 1-160 Hz trials only\n",
    "            \n",
    "            matFile = sumPath + '/_f0.mat'\n",
    "            f0SingleFOV = sio.loadmat(matFile)\n",
    "            f0Array = f0SingleFOV['f0']\n",
    "            f0List.append(f0Array[:7,:]) # Keep 1-160 Hz trials only\n",
    "            i+=1  \n",
    "        dffAllROIs = np.concatenate(dffList, axis=1)\n",
    "        f0AllROIs = np.concatenate(f0List, axis=1)\n",
    "        dffMean = np.mean(dffAllROIs, axis = 1)\n",
    "        f0Mean = np.mean(f0AllROIs, axis = 1)\n",
    "        sensor = df.loc[(df['Date'] == int(date))&(df['Larva_ID'] == larva), 'Sensor'].values[0]\n",
    "        sumPath = '/Volumes/genie/Jihong_GENIE_stuff/NMJ/LA-GCaMP-summary-by-larva/' + sensor\n",
    "        if not os.path.exists(sumPath):\n",
    "            os.makedirs(sumPath)\n",
    "        sio.savemat(sumPath + '/' + date + larva + '_dff.mat', dict(dff=dffMean))\n",
    "        sio.savemat(sumPath + '/' + date + larva + '_f0.mat', dict(f0=f0Mean))\n",
    "print (\"Total sessions (FOV): %d\" %i)"
   ]
  },
  {
   "cell_type": "markdown",
   "metadata": {},
   "source": [
    "### Group dff traces by sensor type"
   ]
  },
  {
   "cell_type": "code",
   "execution_count": 12,
   "metadata": {
    "scrolled": false
   },
   "outputs": [
    {
     "name": "stdout",
     "output_type": "stream",
     "text": [
      "['GCaMP6s' 'GCaMP725' 'GCaMP734' 'GCaMP779' 'GCaMP804' 'GCaMP834'\n",
      " 'GCaMP783' 'GCaMP6f']\n",
      "8\n",
      "GCaMP6s\n",
      "4\n",
      "GCaMP725\n",
      "4\n",
      "GCaMP734\n",
      "4\n",
      "GCaMP779\n",
      "4\n",
      "GCaMP804\n",
      "4\n",
      "GCaMP834\n",
      "4\n",
      "GCaMP783\n",
      "4\n",
      "GCaMP6f\n",
      "3\n"
     ]
    }
   ],
   "source": [
    "sensorTypes = df.Sensor.unique()\n",
    "print(sensorTypes)\n",
    "print(len(sensorTypes))\n",
    "dffAll = {}\n",
    "f0All = {}\n",
    "\n",
    "for sensor in(sensorTypes):\n",
    "    print(sensor)\n",
    "    sumPath = '/Volumes/genie/Jihong_GENIE_stuff/NMJ/LA-GCaMP-summary-by-larva/' + sensor\n",
    "    dffList = []\n",
    "    f0List = []\n",
    "    matFiles = glob(sumPath + '/*_dff.mat')\n",
    "    for matFile in(matFiles):\n",
    "        dffSingleLarva = sio.loadmat(matFile)\n",
    "        dffArray = dffSingleLarva['dff']\n",
    "#         print dffArray.shape\n",
    "        dffList.append(dffArray)\n",
    "#     print len(dffList)\n",
    "    dffAll[sensor] = dffList\n",
    "    matFiles = glob(sumPath + '/*_f0.mat')\n",
    "    for matFile in(matFiles):\n",
    "        f0SingleLarva = sio.loadmat(matFile)\n",
    "        f0Array = f0SingleLarva['f0']\n",
    "#         print dffArray.shape\n",
    "        f0List.append(f0Array)\n",
    "    print(len(dffList))\n",
    "    f0All[sensor] = f0List\n"
   ]
  },
  {
   "cell_type": "code",
   "execution_count": 15,
   "metadata": {},
   "outputs": [
    {
     "name": "stdout",
     "output_type": "stream",
     "text": [
      "GCaMP6s\n",
      "(7, 405)\n",
      "GCaMP725\n",
      "(7, 405)\n",
      "GCaMP734\n",
      "(7, 405)\n",
      "GCaMP779\n",
      "(7, 405)\n",
      "GCaMP804\n",
      "(7, 405)\n",
      "GCaMP834\n",
      "(7, 405)\n",
      "GCaMP783\n",
      "(7, 405)\n",
      "GCaMP6f\n",
      "(7, 405)\n"
     ]
    }
   ],
   "source": [
    "i = 0\n",
    "for k, v in dffAll.items(): # dffAll.items() for Python 3\n",
    "    print(k)\n",
    "    print(v[i].shape)\n",
    "    "
   ]
  },
  {
   "cell_type": "markdown",
   "metadata": {},
   "source": [
    "### dff frequency responses for all sensors"
   ]
  },
  {
   "cell_type": "code",
   "execution_count": 38,
   "metadata": {},
   "outputs": [
    {
     "data": {
      "image/png": "[encoded data removed]",
      "text/plain": [
       "<Figure size 1080x360 with 5 Axes>"
      ]
     },
     "metadata": {
      "needs_background": "light"
     },
     "output_type": "display_data"
    }
   ],
   "source": [
    "trialMap = {\n",
    "            1: '1 Hz',\n",
    "            2: '5 Hz',\n",
    "            3: '10 Hz',\n",
    "            4: '20 Hz',\n",
    "            5: '40 Hz',\n",
    "            6: '80 Hz',\n",
    "            7: '160 Hz',\n",
    "#             8: '240 Hz',\n",
    "#             9: '320 Hz'\n",
    "           }\n",
    "\n",
    "colorMap = {\n",
    "            1: 'brown',\n",
    "            2: 'pink',\n",
    "            3: 'burlywood',\n",
    "            4: 'greenyellow',\n",
    "            5: 'skyblue',\n",
    "            6: 'navy',\n",
    "            7: 'mediumpurple',\n",
    "#             8: 'violet',\n",
    "# #             8: 'k',\n",
    "#             9: 'goldenrod'\n",
    "           }\n",
    "\n",
    "# figOrders = ['GCaMP6s', 'GCaMP7b', 'GCaMP7c', 'GCaMP7f', 'GCaMP7s']\n",
    "figOrders = [u'GCaMP6f', u'GCaMP6s',u'GCaMP779', u'GCaMP804', u'GCaMP783']\n",
    "# figOrders = [u'GCaMP6f', u'GCaMP6s', u'GCaMP725', u'GCaMP734', u'GCaMP779', u'GCaMP783', u'GCaMP804', u'GCaMP834']\n",
    "# figOrders = ['GCaMP6s', 'GCaMP725']\n",
    "fig = plt.figure(figsize=(len(figOrders)*3,5))\n",
    "subplotPos = 0\n",
    "# for sensor, traces in dffAll.iteritems():\n",
    "for sensor in(figOrders):\n",
    "    mean = np.mean(dffAll[sensor], axis = 0)\n",
    "#     print mean.shape\n",
    "    mean = mean[:, params['truncatedFrames']+params['shutterCloseFrames'] :]\n",
    "    sem = np.std(dffAll[sensor], axis = 0)/(len(dffAll[sensor]) - 1)\n",
    "\n",
    "    sem = sem[:, params['truncatedFrames']+params['shutterCloseFrames']:]\n",
    "    subplotPos += 1\n",
    "    ax = plt.subplot(1, len(dffAll), subplotPos)\n",
    "    for trialNum in range(mean.shape[0]):\n",
    "#     for trialNum in range(3):\n",
    "        ax.plot(np.arange(1, mean.shape[1] + 1) * params['frameInterval'] / 1000, mean[trialNum], lw=1, label=trialMap[trialNum+1], color = colorMap[trialNum+1])\n",
    "        ax.fill_between(np.arange(1, mean.shape[1] + 1) * params['frameInterval'] / 1000, mean[trialNum]-sem[trialNum], mean[trialNum]+sem[trialNum], color = colorMap[trialNum+1], alpha=0.3)\n",
    "        if subplotPos == len(figOrders):\n",
    "            leg = ax.legend(loc='upper right')\n",
    "            leg.get_frame().set_linewidth(0.0)\n",
    "        ax.spines['right'].set_visible(False)\n",
    "        ax.spines['top'].set_visible(False)\n",
    "        ax.yaxis.set_ticks_position('left')\n",
    "        ax.xaxis.set_ticks_position('bottom')\n",
    "        ax.set_title(sensor)\n",
    "        ax.set_xlabel('s', size=12, color = '#4B4B4B')\n",
    "        if subplotPos == 1:\n",
    "            ax.set_ylabel('dF/F', size=12, color = '#4B4B4B')\n",
    "#     ax.set_ylim([-0.15, 0.2])\n",
    "#     ax.set_ylim([-0.15, 0.25])\n",
    "    ax.set_ylim([-0.5, 13.5])\n",
    "\n",
    "plt.tight_layout()\n",
    "# ax.legend()\n",
    "plt.show()\n",
    "# savePath = os.path.join(imgPath, 'Results', 'GCaMP7')\n",
    "savePath = '/Users/zhengj10/Desktop'\n",
    "# savePath = os.path.join(imgPath, 'Results', 'GCaMP_low_affinity_1-640Hz')\n",
    "# fig.savefig(savePath + '/' + 'GCaMP_low_affinity_1-320Hz_dff.png', dpi = 1200)\n",
    "# fig.savefig(savePath + '/' + 'GCaMP_low_affinity_1-160Hz_by_larva.png', dpi = 1200)\n",
    "# fig.savefig(savePath + '/' + 'GCaMP_low_affinity_1-320Hz_dff_zoomed_in.png', dpi = 1200)\n",
    "# fig.savefig(savePath + '/' + df_sorted.Father_line_landing_site.values[0] + '_dff.png', dpi = 1200)\n",
    "# fig.savefig(savePath + '/' + df_sorted.Father_line_landing_site.values[0] + '_dff_1-10Hz.png', dpi = 1200)\n"
   ]
  },
  {
   "cell_type": "markdown",
   "metadata": {},
   "source": [
    "### F0 for all sensors"
   ]
  },
  {
   "cell_type": "code",
   "execution_count": 52,
   "metadata": {
    "scrolled": false
   },
   "outputs": [
    {
     "data": {
      "image/png": "[encoded data removed]",
      "text/plain": [
       "<Figure size 288x288 with 1 Axes>"
      ]
     },
     "metadata": {
      "needs_background": "light"
     },
     "output_type": "display_data"
    }
   ],
   "source": [
    "fig = plt.figure(figsize=(4,4))\n",
    "f0Mean = []\n",
    "f0Sem = []\n",
    "for sensor in(figOrders):\n",
    "    mean = np.mean(f0All[sensor])\n",
    "    sem = np.std(f0All[sensor])/len(f0All[sensor])\n",
    "#     sem = np.std(f0All[sensor][0,:])\n",
    "    f0Mean.append(mean)\n",
    "    f0Sem.append(sem)\n",
    "ax = plt.subplot(1, 1, 1)\n",
    "ax.spines['right'].set_visible(False)\n",
    "ax.spines['top'].set_visible(False)\n",
    "y_pos = np.arange(1, len(figOrders)+1)\n",
    "# plt.xticks(y_pos, figOrders, rotation=45, ha = 'right')\n",
    "colors = ['k', 'y', 'm', 'c', 'g', 'r', 'b', 'brown']\n",
    "# for xtick, color in zip(ax.get_xticklabels(), colors):\n",
    "#     xtick.set_color(color)\n",
    "\n",
    "plt.tick_params(\n",
    "    axis='x',          # changes apply to the x-axis\n",
    "    which='both',      # both major and minor ticks are affected\n",
    "    bottom=False,      # ticks along the bottom edge are off\n",
    "    top=False,         # ticks along the top edge are off\n",
    "    labelbottom=False)\n",
    "\n",
    "\n",
    "ax.set_ylabel('F0', size=12, weight='light')\n",
    "barlist = ax.bar(y_pos, f0Mean, yerr = f0Sem)\n",
    "barlist[0].set_color('k')\n",
    "barlist[1].set_color('y')\n",
    "barlist[2].set_color('m')\n",
    "barlist[3].set_color('c')\n",
    "barlist[4].set_color('g')\n",
    "# barlist[5].set_color('r')\n",
    "# barlist[6].set_color('b')\n",
    "# barlist[7].set_color('brown')\n",
    "# plt.rcParams[\"axes.labelweight\"] = \"bold\"\n",
    "plt.tight_layout()\n",
    "plt.show()\n",
    "# fig.savefig(savePath + '/' + 'GCaMP_low_affinity_1-160Hz_f0_by_larva.png')\n"
   ]
  },
  {
   "cell_type": "code",
   "execution_count": 45,
   "metadata": {},
   "outputs": [],
   "source": [
    "ax.set_ylabel?"
   ]
  },
  {
   "cell_type": "code",
   "execution_count": 18,
   "metadata": {},
   "outputs": [
    {
     "data": {
      "image/png": "[encoded data removed]",
      "text/plain": [
       "<Figure size 288x432 with 1 Axes>"
      ]
     },
     "metadata": {},
     "output_type": "display_data"
    }
   ],
   "source": [
    "sensors = ['GCaMP6f','GCaMP6s','7dot779','7dot783','7dot804']\n",
    "\n",
    "# Kd = [412.90,176.50,5399.00,3799.00,892.00]\n",
    "# fMax = [3622,2813,2741,2754,3031]\n",
    "# fMin = [66.82,26.41,92.28,98.68,60.71]\n",
    "hill = [2.355,2.809,1.653,1.59,1.897]\n",
    "\n",
    "\n",
    "fig = plt.figure(figsize=(4,6))\n",
    "ax = plt.subplot(1, 1, 1)\n",
    "ax.spines['right'].set_visible(False)\n",
    "ax.spines['top'].set_visible(False)\n",
    "y_pos = np.arange(1, len(dffAll)+1)\n",
    "plt.xticks(y_pos, sensors, rotation=60, weight = 'bold')\n",
    "colors = ['k', 'y', 'm', 'c', 'g']\n",
    "for xtick, color in zip(ax.get_xticklabels(), colors):\n",
    "    xtick.set_color(color)\n",
    "    \n",
    "# ax.set_ylabel('Kd(nM)', size=12)\n",
    "# ax.set_ylabel('Fmax (F/mg/mL protein)', size=12)\n",
    "# ax.set_ylabel('Fmin (F/mg/mL protein)', size=12)\n",
    "ax.set_ylabel('Hill coefficient', size=12)\n",
    "\n",
    "# barlist = ax.bar(np.arange(1,6), Kd)\n",
    "# barlist = ax.bar(np.arange(1,6), fMax)\n",
    "# barlist = ax.bar(np.arange(1,6), fMin)\n",
    "barlist = ax.bar(np.arange(1,6), hill)\n",
    "\n",
    "\n",
    "barlist[0].set_color('k')\n",
    "barlist[1].set_color('y')\n",
    "barlist[2].set_color('m')\n",
    "barlist[3].set_color('c')\n",
    "barlist[4].set_color('g')\n",
    "\n",
    "plt.rcParams[\"axes.labelweight\"] = \"bold\"\n",
    "plt.tight_layout()\n",
    "plt.show()\n",
    "\n",
    "\n",
    "# fig.savefig(savePath + '/' + 'Kd.png', dpi = 1200)\n",
    "# fig.savefig(savePath + '/' + 'fMax.png', dpi = 1200)\n",
    "# fig.savefig(savePath + '/' + 'fMin.png', dpi = 1200)\n",
    "# fig.savefig(savePath + '/' + 'hill.png', dpi = 1200)\n",
    "\n"
   ]
  },
  {
   "cell_type": "markdown",
   "metadata": {},
   "source": [
    "### Compute the half rise time and half decay time"
   ]
  },
  {
   "cell_type": "code",
   "execution_count": 76,
   "metadata": {},
   "outputs": [],
   "source": [
    "def computeHR(A): # A is all dffTraces with 393 total frames (12 frames deleted from raw)\n",
    "    idxList = []\n",
    "    idxPeakList = []\n",
    "    hfriseList = []\n",
    "    for larva in range(len(A)):\n",
    "        trace = A[larva][5,:] ## Must use store the data in another variable othersise np.abs does not work!\n",
    "        peak = np.max(trace)\n",
    "        idxPeak = (np.abs(trace-peak)).argmin()\n",
    "        median = peak/2.0\n",
    "        idxMedian = (np.abs(trace[:idxPeak]-median)).argmin()\n",
    "        hfrise = idxMedian/30.303 - 3.5278\n",
    "        idxList.append(idxMedian)\n",
    "        idxPeakList.append(idxPeak)\n",
    "        hfriseList.append(hfrise)     \n",
    "    return idxList, idxPeakList, hfriseList\n"
   ]
  },
  {
   "cell_type": "code",
   "execution_count": 77,
   "metadata": {},
   "outputs": [],
   "source": [
    "def computeHD(A): # A is all dffTraces with 393 total frames (12 frames deleted from raw)\n",
    "     # If use all the data \n",
    "    idxList = []\n",
    "    hfdecayList = []\n",
    "    \n",
    "    for larva in range(len(A)):\n",
    "        trace = A[larva][5,:]\n",
    "        traceStartFrame = int(5.5278 * 30.303) # Get the frame # when the stimulation ends\n",
    "    #     print traceStartFrame\n",
    "        decayTrace = trace[traceStartFrame:traceStartFrame+60]\n",
    "        value = decayTrace[0]/2\n",
    "#         print trace[0]\n",
    "        idx = (np.abs(decayTrace-value)).argmin()\n",
    "        halfDecay = idx/30.303\n",
    "        idxList.append(idx)\n",
    "        hfdecayList.append(halfDecay)     \n",
    "    return idxList, hfdecayList\n"
   ]
  },
  {
   "cell_type": "code",
   "execution_count": 80,
   "metadata": {},
   "outputs": [
    {
     "data": {
      "image/png": "[encoded data removed]",
      "text/plain": [
       "<Figure size 288x288 with 1 Axes>"
      ]
     },
     "metadata": {
      "needs_background": "light"
     },
     "output_type": "display_data"
    }
   ],
   "source": [
    "fig = plt.figure(figsize=(4,4))\n",
    "hfriseMean = []\n",
    "hfriseSem = []\n",
    "for sensor in(figOrders):\n",
    "#     idxList, idxPeakList, hfriseList = computeHR(dffAll[sensor][:,:,params['shutterCloseFrames']:])\n",
    "    idxList, idxPeakList, hfriseList = computeHR(dffAll[sensor])\n",
    "    mean = np.mean(hfriseList)\n",
    "    sem = np.std(hfriseList)/(len(hfriseList)-1)\n",
    "    hfriseMean.append(mean)\n",
    "    hfriseSem.append(sem)\n",
    "ax = plt.subplot(1, 1, 1)\n",
    "ax.spines['right'].set_visible(False)\n",
    "ax.spines['top'].set_visible(False)\n",
    "y_pos = np.arange(1, len(figOrders)+1)\n",
    "# plt.xticks(y_pos, figOrders, rotation=45, weight = 'bold', ha = 'right' )\n",
    "colors = ['k', 'y', 'm', 'c', 'g', 'r', 'b', 'brown']\n",
    "# for xtick, color in zip(ax.get_xticklabels(), colors):\n",
    "#     xtick.set_color(color)\n",
    "\n",
    "\n",
    "plt.tick_params(\n",
    "    axis='x',          # changes apply to the x-axis\n",
    "    which='both',      # both major and minor ticks are affected\n",
    "    bottom=False,      # ticks along the bottom edge are off\n",
    "    top=False,         # ticks along the top edge are off\n",
    "    labelbottom=False)\n",
    "\n",
    "ax.set_ylabel('Half rise time (s)', size=12, weight='light')\n",
    "barlist = ax.bar(y_pos, hfriseMean, yerr = hfriseSem)\n",
    "barlist[0].set_color('k')\n",
    "barlist[1].set_color('y')\n",
    "barlist[2].set_color('m')\n",
    "barlist[3].set_color('c')\n",
    "barlist[4].set_color('g')\n",
    "# barlist[5].set_color('r')\n",
    "# barlist[6].set_color('b')\n",
    "# barlist[7].set_color('brown')\n",
    "plt.rcParams[\"axes.labelweight\"] = \"bold\"\n",
    "plt.tight_layout()\n",
    "plt.show()\n",
    "# fig.savefig(savePath + '/' + 'GCaMP_low_affinity_1-160Hz_hr_by_larva.png')\n"
   ]
  },
  {
   "cell_type": "code",
   "execution_count": 81,
   "metadata": {},
   "outputs": [
    {
     "data": {
      "image/png": "[encoded data removed]",
      "text/plain": [
       "<Figure size 288x288 with 1 Axes>"
      ]
     },
     "metadata": {},
     "output_type": "display_data"
    }
   ],
   "source": [
    "fig = plt.figure(figsize=(4,4))\n",
    "hfdecayMean = []\n",
    "hfdecaySem = []\n",
    "for sensor in(figOrders):\n",
    "    idxList, hfdecayList = computeHD(dffAll[sensor])\n",
    "    mean = np.mean(hfdecayList)\n",
    "    sem = np.std(hfdecayList)/(len(hfdecayList)-1)\n",
    "    hfdecayMean.append(mean)\n",
    "    hfdecaySem.append(sem)\n",
    "ax = plt.subplot(1, 1, 1)\n",
    "ax.spines['right'].set_visible(False)\n",
    "ax.spines['top'].set_visible(False)\n",
    "y_pos = np.arange(1, len(figOrders)+1)\n",
    "plt.xticks(y_pos, figOrders, rotation=45, ha = 'right')\n",
    "\n",
    "plt.tick_params(\n",
    "    axis='x',          # changes apply to the x-axis\n",
    "    which='both',      # both major and minor ticks are affected\n",
    "    bottom=False,      # ticks along the bottom edge are off\n",
    "    top=False,         # ticks along the top edge are off\n",
    ")\n",
    "\n",
    "colors = ['k', 'y', 'm', 'c', 'g', 'r', 'b', 'brown']\n",
    "for xtick, color in zip(ax.get_xticklabels(), colors):\n",
    "    xtick.set_color(color)\n",
    "ax.set_ylabel('Half decay time (s)', size=12, weight='light')\n",
    "barlist = ax.bar(y_pos, hfdecayMean, yerr = hfriseSem)\n",
    "barlist[0].set_color('k')\n",
    "barlist[1].set_color('y')\n",
    "barlist[2].set_color('m')\n",
    "barlist[3].set_color('c')\n",
    "barlist[4].set_color('g')\n",
    "# barlist[5].set_color('r')\n",
    "# barlist[6].set_color('b')\n",
    "# barlist[7].set_color('brown')\n",
    "# plt.rcParams[\"axes.labelweight\"] = \"bold\"\n",
    "ax.set_ylim([-0.05,1.45])\n",
    "plt.tight_layout()\n",
    "plt.show()\n",
    "# fig.savefig(savePath + '/' + 'GCaMP_low_affinity_1-160Hz_hd_by_larva.png')\n"
   ]
  },
  {
   "cell_type": "code",
   "execution_count": null,
   "metadata": {
    "collapsed": true
   },
   "outputs": [],
   "source": []
  },
  {
   "cell_type": "markdown",
   "metadata": {},
   "source": [
    "### Comparison of GCaMP6s and GCaMP7s at 1Hz"
   ]
  },
  {
   "cell_type": "code",
   "execution_count": 16,
   "metadata": {
    "collapsed": true
   },
   "outputs": [],
   "source": [
    "# figPos = 0\n",
    "# sensors = ['GCaMP6s', 'GCaMP7s']\n",
    "# fig = plt.figure(figsize=(len(sensors)*3, 4))\n",
    "# ax = plt.subplot(1, 3, 1)\n",
    "# ax.plot([8,8,10], [0.04,-0.01,-0.01], color='k', lw=1)\n",
    "# ax.set_xlim([-0.51315, 11.50215])\n",
    "# ax.set_ylim([-0.08253471782803537, 0.19322907438874246])\n",
    "\n",
    "# ax.axis('off')\n",
    "\n",
    "# # (-0.51315, 11.50215) xlim in trace plot\n",
    "# # (-0.125, 0.14000000000000001) ylim in trace plot\n",
    "# for sensor in(sensors):\n",
    "#     figPos += 1\n",
    "#     trace = dffAll[sensor]\n",
    "# #     ax_sb = plt.subplot(1, len(sensors)+1, figPos)\n",
    "# #     ax_sb.plot(np.arange(1, trace.shape[2] + 1 -params['truncatedFrames'])/params['frameRate'], np.zeros(trace.shape[2]- params['truncatedFrames']), lw = 0)\n",
    "# #     ax_sb.plot([-2, -2, 0], [0.05, -0.05, -0.05], color = 'k')\n",
    "# #     ax_sb.axis('off')\n",
    "# #     ax_sb.set_ylim([-0.075, 0.19])\n",
    "#     ax = plt.subplot(1, len(sensors)+1, figPos+1)\n",
    "    \n",
    "\n",
    "#     for roi in range(trace.shape[1]):\n",
    "#         if sensor == 'GCaMP6s' and np.max(trace[0, roi, :]) > 0.05: # Use this code only if no. of badrois equals 1\n",
    "#             badRoi = roi\n",
    "#             continue\n",
    "#         if sensor == 'GCaMP6s':\n",
    "#             ax.plot(np.arange(1, len(trace[0, roi, :])+1-params['truncatedFrames']) * params['frameInterval'] / 1000, trace[0, roi, params['truncatedFrames']:], lw=0.7, color = 'lightgrey')\n",
    "#         else:\n",
    "#             ax.plot(np.arange(1, len(trace[0, roi, :])+1-params['truncatedFrames'])* params['frameInterval'] / 1000, trace[0, roi, params['truncatedFrames']:], lw=0.7, color = 'pink')\n",
    "#         ax.set_title(sensor)\n",
    "\n",
    "#     if sensor == 'GCaMP6s':\n",
    "        \n",
    "#         trace = np.delete(trace, badRoi, axis=1)\n",
    "#         roi -= 1\n",
    "#         ax.plot(np.arange(1, len(trace[0, roi, :])+1-params['truncatedFrames']) * params['frameInterval'] / 1000, np.mean(trace[0, :, params['truncatedFrames']:], axis = 0), lw=1, color = 'k')\n",
    "#     else:\n",
    "#         ax.plot(np.arange(1, len(trace[0, roi, :])+1-params['truncatedFrames']) * params['frameInterval'] / 1000, np.mean(trace[0, :, params['truncatedFrames']:], axis = 0), lw=1, color = 'r')\n",
    "#     ax.plot([1, 1], [-0.04, -0.07], color = 'k', lw = 1)\n",
    "#     ax.plot([2, 2], [-0.04, -0.07], color = 'k', lw = 1)\n",
    "#     ax.axis('off')\n",
    "#     ax.set_ylim([-0.08253471782803537, 0.19322907438874246])\n",
    "#     ax.set_xlim([-0.51315, 11.50215])\n",
    "# # plt.tight_layout()\n",
    "# plt.show()\n",
    "# # print ax.get_xlim()\n",
    "# # print ax.get_ylim()\n",
    "\n",
    "# # fig.savefig('/Users/zhengj10/Desktop/data/dff_1Hz_VK00005.png', dpi = 1200)\n"
   ]
  },
  {
   "cell_type": "code",
   "execution_count": 17,
   "metadata": {
    "collapsed": true
   },
   "outputs": [],
   "source": [
    "# figPos = 0\n",
    "# sensors = ['GCaMP6s', 'GCaMP7s']\n",
    "# fig = plt.figure(figsize=(len(sensors)*3, 4))\n",
    "# ax = plt.subplot(1, 3, 1)\n",
    "# ax.plot([8,8,10], [0,-0.05,-0.05], color='k', lw=1)\n",
    "# ax.set_xlim([-0.51315, 11.50215])\n",
    "# ax.set_ylim([-0.08253471782803537, 0.19322907438874246])\n",
    "\n",
    "# ax.axis('off')\n",
    "\n",
    "# # (-0.51315, 11.50215) xlim in trace plot\n",
    "# # (-0.125, 0.14000000000000001) ylim in trace plot\n",
    "# for sensor in(sensors):\n",
    "#     figPos += 1\n",
    "#     trace = dffAll[sensor]\n",
    "# #     ax_sb = plt.subplot(1, len(sensors)+1, figPos)\n",
    "# #     ax_sb.plot(np.arange(1, trace.shape[2] + 1 -params['truncatedFrames'])/params['frameRate'], np.zeros(trace.shape[2]- params['truncatedFrames']), lw = 0)\n",
    "# #     ax_sb.plot([-2, -2, 0], [0.05, -0.05, -0.05], color = 'k')\n",
    "# #     ax_sb.axis('off')\n",
    "# #     ax_sb.set_ylim([-0.075, 0.19])\n",
    "#     ax = plt.subplot(1, len(sensors)+1, figPos+1)\n",
    "    \n",
    "\n",
    "#     for roi in range(trace.shape[1]):\n",
    "#         ax.plot(np.arange(1, len(trace[0, roi, :])+1-params['truncatedFrames']) * params['frameInterval'] / 1000, trace[0, roi, params['truncatedFrames']:], lw=0.7, color = 'lightgrey')\n",
    "        \n",
    "#     ax.plot(np.arange(1, len(trace[0, roi, :])+1-params['truncatedFrames']) * params['frameInterval'] / 1000, np.mean(trace[0, :, params['truncatedFrames']:], axis = 0), lw=1, color = 'k')    \n",
    "#     ax.set_title(sensor)\n",
    "\n",
    "#     ax.plot([1, 1], [-0.04, -0.07], color = 'k', lw = 1)\n",
    "#     ax.plot([2, 2], [-0.04, -0.07], color = 'k', lw = 1)\n",
    "#     ax.axis('off')\n",
    "#     ax.set_ylim([-0.08253471782803537, 0.19322907438874246])\n",
    "#     ax.set_xlim([-0.51315, 11.50215])\n",
    "# # plt.tight_layout()\n",
    "# plt.show()\n",
    "# # print ax.get_xlim()\n",
    "# # print ax.get_ylim()\n",
    "\n",
    "# # fig.savefig('/Users/zhengj10/Desktop/data/dff_1Hz.png', dpi = 1200)\n"
   ]
  },
  {
   "cell_type": "markdown",
   "metadata": {},
   "source": [
    "### Report generation"
   ]
  },
  {
   "cell_type": "code",
   "execution_count": 19,
   "metadata": {},
   "outputs": [
    {
     "data": {
      "text/html": [
       "<div>\n",
       "<style scoped>\n",
       "    .dataframe tbody tr th:only-of-type {\n",
       "        vertical-align: middle;\n",
       "    }\n",
       "\n",
       "    .dataframe tbody tr th {\n",
       "        vertical-align: top;\n",
       "    }\n",
       "\n",
       "    .dataframe thead th {\n",
       "        text-align: right;\n",
       "    }\n",
       "</style>\n",
       "<table border=\"1\" class=\"dataframe\">\n",
       "  <thead>\n",
       "    <tr style=\"text-align: right;\">\n",
       "      <th></th>\n",
       "      <th>Sensor</th>\n",
       "      <th>No_larvae</th>\n",
       "      <th>No_FOV</th>\n",
       "      <th>No_buttons</th>\n",
       "    </tr>\n",
       "  </thead>\n",
       "  <tbody>\n",
       "    <tr>\n",
       "      <th>1</th>\n",
       "      <td>GCaMP6f</td>\n",
       "      <td>3</td>\n",
       "      <td>5</td>\n",
       "      <td>30</td>\n",
       "    </tr>\n",
       "    <tr>\n",
       "      <th>2</th>\n",
       "      <td>GCaMP6s</td>\n",
       "      <td>4</td>\n",
       "      <td>8</td>\n",
       "      <td>38</td>\n",
       "    </tr>\n",
       "    <tr>\n",
       "      <th>3</th>\n",
       "      <td>GCaMP725</td>\n",
       "      <td>4</td>\n",
       "      <td>9</td>\n",
       "      <td>45</td>\n",
       "    </tr>\n",
       "    <tr>\n",
       "      <th>4</th>\n",
       "      <td>GCaMP734</td>\n",
       "      <td>4</td>\n",
       "      <td>8</td>\n",
       "      <td>34</td>\n",
       "    </tr>\n",
       "    <tr>\n",
       "      <th>5</th>\n",
       "      <td>GCaMP779</td>\n",
       "      <td>4</td>\n",
       "      <td>7</td>\n",
       "      <td>41</td>\n",
       "    </tr>\n",
       "    <tr>\n",
       "      <th>6</th>\n",
       "      <td>GCaMP783</td>\n",
       "      <td>4</td>\n",
       "      <td>7</td>\n",
       "      <td>39</td>\n",
       "    </tr>\n",
       "    <tr>\n",
       "      <th>7</th>\n",
       "      <td>GCaMP804</td>\n",
       "      <td>4</td>\n",
       "      <td>7</td>\n",
       "      <td>39</td>\n",
       "    </tr>\n",
       "    <tr>\n",
       "      <th>8</th>\n",
       "      <td>GCaMP834</td>\n",
       "      <td>4</td>\n",
       "      <td>5</td>\n",
       "      <td>26</td>\n",
       "    </tr>\n",
       "  </tbody>\n",
       "</table>\n",
       "</div>"
      ],
      "text/plain": [
       "     Sensor  No_larvae  No_FOV  No_buttons\n",
       "1   GCaMP6f          3       5         30 \n",
       "2   GCaMP6s          4       8         38 \n",
       "3  GCaMP725          4       9         45 \n",
       "4  GCaMP734          4       8         34 \n",
       "5  GCaMP779          4       7         41 \n",
       "6  GCaMP783          4       7         39 \n",
       "7  GCaMP804          4       7         39 \n",
       "8  GCaMP834          4       5         26 "
      ]
     },
     "execution_count": 19,
     "metadata": {},
     "output_type": "execute_result"
    }
   ],
   "source": [
    "fov_col = df.groupby('Sensor').count()['FOV_ID'] # No. of FOVs\n",
    "larva_col = df.groupby(['Sensor', 'Date', 'Larva_ID']).count().groupby('Sensor').count()['GenoType'] # No. of larvae\n",
    "button_col = df.groupby('Sensor').sum()['No_buttons'] # No. of ROIs (Ib buttons)\n",
    "df_summary = pd.DataFrame({'Sensor': fov_col.index, 'No_larvae': larva_col.values, 'No_FOV': fov_col.values, 'No_buttons':button_col.values}, columns = ['Sensor', 'No_larvae', 'No_FOV', 'No_buttons'])\n",
    "df_summary.index = np.arange(1, len(df_summary)+1)\n",
    "# df_summary.to_excel('/Users/zhengj10/Desktop/GENIE/Data/NMJ/GCaMP_low_affinity_1-640Hz_summary_report.xlsx')\n",
    "df_summary\n"
   ]
  },
  {
   "cell_type": "code",
   "execution_count": null,
   "metadata": {
    "collapsed": true
   },
   "outputs": [],
   "source": []
  },
  {
   "cell_type": "code",
   "execution_count": null,
   "metadata": {
    "collapsed": true
   },
   "outputs": [],
   "source": [
    "qq = df_sorted.groupby('Sensor').count()['FOV_ID']"
   ]
  },
  {
   "cell_type": "code",
   "execution_count": null,
   "metadata": {
    "collapsed": true
   },
   "outputs": [],
   "source": [
    "# df_allGT = pd.DataFrame(columns = ['GenoType', 'LS', 'Sensor', 'No_larvae', 'No_FOV', 'No_buttons'])\n",
    "\n",
    "# for ls in ['su(Hw)attP5', 'su(Hw)attP8', 'VK00005']:\n",
    "\n",
    "#     df_sorted = df[df.Father_line_landing_site==ls]\n",
    "#     a = df_sorted.groupby('Sensor')\n",
    "#     b = a.GenoType.value_counts()\n",
    "#     c = b.unstack(level=0)\n",
    "#     fov_col = df_sorted.groupby('Sensor').count()['FOV_ID'] # No. of FOVs\n",
    "#     larva_col = df_sorted.groupby(['Sensor', 'Date', 'Larva_ID']).count().groupby('Sensor').count()['GenoType'] # No. of larvae\n",
    "#     button_col = df_sorted.groupby('Sensor').sum()['No_buttons'] # No. of ROIs (Ib buttons)\n",
    "#     df_summary = pd.DataFrame({'GenoType': c.index, 'LS': df_sorted.Father_line_landing_site[:len(fov_col)], 'Sensor': fov_col.index, 'No_larvae': larva_col.values, 'No_FOV': fov_col.values, 'No_buttons':button_col.values}, columns = ['GenoType', 'LS', 'Sensor', 'No_larvae', 'No_FOV', 'No_buttons'])\n",
    "#     df_allGT = df_allGT.append(df_summary, ignore_index = True)\n",
    "\n",
    "# # df = pd.read_excel(imgPath + 'summary.xlsx', index_col = 0)\n",
    "# # df_new = pd.DataFrame(sessionInfo, columns = list(df), index = ['i',]) # columns specification keep the order of columns; index specification makes sure dict keys are the columns \n",
    "# # df = df.append(df_new, ignore_index = True)\n",
    "# # df.index = np.arange(1, len(df)+1)\n",
    "# df_allGT.index = np.arange(1, len(df_allGT)+1)\n",
    "# df_allGT\n"
   ]
  },
  {
   "cell_type": "code",
   "execution_count": null,
   "metadata": {
    "collapsed": true
   },
   "outputs": [],
   "source": [
    "# df_allGT.to_excel('/Users/zhengj10/Desktop/summary.xlsx')"
   ]
  },
  {
   "cell_type": "code",
   "execution_count": null,
   "metadata": {
    "collapsed": true
   },
   "outputs": [],
   "source": []
  },
  {
   "cell_type": "markdown",
   "metadata": {},
   "source": [
    "### Stylize table"
   ]
  },
  {
   "cell_type": "code",
   "execution_count": null,
   "metadata": {
    "collapsed": true
   },
   "outputs": [],
   "source": [
    "# import six\n",
    "\n",
    "# # df = pd.DataFrame()\n",
    "# # df['date'] = ['2016-04-01', '2016-04-02', '2016-04-03']\n",
    "# # df['calories'] = [2200, 2100, 1500]\n",
    "# # df['sleep hours'] = [2200, 2100, 1500]\n",
    "# # df['gym'] = [True, False, False]\n",
    "\n",
    "\n",
    "# def render_mpl_table(data, col_width=5.0, row_height=0.6, font_size=14,\n",
    "#                      header_color='#353535', row_colors=['#f1f1f2', 'w'], edge_color='w',\n",
    "#                      bbox=[0, 0, 1, 1], header_columns=0,\n",
    "#                      ax=None, **kwargs):\n",
    "#     if ax is None:\n",
    "#         size = (np.array(data.shape[::-1]) + np.array([0, 1])) * np.array([col_width, row_height])\n",
    "#         fig, ax = plt.subplots(figsize=size)\n",
    "#         ax.axis('off')\n",
    "\n",
    "#     mpl_table = ax.table(cellText=data.values, bbox=bbox, colLabels=data.columns, **kwargs)\n",
    "\n",
    "#     mpl_table.auto_set_font_size(False)\n",
    "#     mpl_table.set_fontsize(font_size)\n",
    "\n",
    "#     for k, cell in  six.iteritems(mpl_table._cells):\n",
    "#         cell.set_edgecolor(edge_color)\n",
    "#         if k[0] == 0 or k[1] < header_columns:\n",
    "#             cell.set_text_props(weight='bold', color='w')\n",
    "#             cell.set_facecolor(header_color)\n",
    "#         else:\n",
    "#             cell.set_facecolor(row_colors[k[0]%len(row_colors) ])\n",
    "#     return ax\n",
    "# # render_mpl_table(df, header_columns=0, col_width=2.0)\n"
   ]
  },
  {
   "cell_type": "code",
   "execution_count": null,
   "metadata": {
    "collapsed": true
   },
   "outputs": [],
   "source": [
    "# sumTable = render_mpl_table(df_allGT, header_columns=0, col_width=2.0)\n"
   ]
  },
  {
   "cell_type": "code",
   "execution_count": null,
   "metadata": {
    "collapsed": true
   },
   "outputs": [],
   "source": []
  }
 ],
 "metadata": {
  "kernelspec": {
   "display_name": "Python 3",
   "language": "python",
   "name": "python3"
  },
  "language_info": {
   "codemirror_mode": {
    "name": "ipython",
    "version": 3
   },
   "file_extension": ".py",
   "mimetype": "text/x-python",
   "name": "python",
   "nbconvert_exporter": "python",
   "pygments_lexer": "ipython3",
   "version": "3.7.6"
  }
 },
 "nbformat": 4,
 "nbformat_minor": 1
}
