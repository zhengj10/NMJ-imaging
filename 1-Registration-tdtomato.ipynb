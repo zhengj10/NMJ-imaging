{
 "cells": [
  {
   "cell_type": "markdown",
   "metadata": {},
   "source": [
    "### Set directory and session info"
   ]
  },
  {
   "cell_type": "code",
   "execution_count": 1,
   "metadata": {},
   "outputs": [],
   "source": [
    "date = '210126'\n",
    "fov = 'FOV1'\n",
    "badTrials = []\n",
    "imgPath = '/Volumes/genie/Jihong_GENIE_stuff/NMJ/uf-GCaMP/'\n",
    "# imgPath = '/Users/zhengj10/Desktop/ufGCaMP/'+ date + '/' + larvaID + '/' + fov\n",
    "shutterCloseFrames = 0\n"
   ]
  },
  {
   "cell_type": "markdown",
   "metadata": {},
   "source": [
    "### Import modules"
   ]
  },
  {
   "cell_type": "code",
   "execution_count": 2,
   "metadata": {},
   "outputs": [],
   "source": [
    "import numpy as np\n",
    "import os\n",
    "import shutil\n",
    "from registration import CrossCorr\n",
    "from skimage.io import imsave\n",
    "from glob import glob\n",
    "import tifffile as tff\n",
    "import matplotlib.pyplot as plt\n"
   ]
  },
  {
   "cell_type": "markdown",
   "metadata": {},
   "source": [
    "### Load data"
   ]
  },
  {
   "cell_type": "code",
   "execution_count": 3,
   "metadata": {},
   "outputs": [
    {
     "name": "stdout",
     "output_type": "stream",
     "text": [
      "The number of trials is:  0\n"
     ]
    },
    {
     "data": {
      "text/plain": [
       "True"
      ]
     },
     "execution_count": 3,
     "metadata": {},
     "output_type": "execute_result"
    }
   ],
   "source": [
    "imgFiles = glob(imgPath + '/TSeries' + '*.tif')\n",
    "imgFiles = sorted(imgFiles)\n",
    "# for imgFile in imgFiles:\n",
    "#     print (imgFile)\n",
    "print ('The number of trials is: ', len(imgFiles))\n",
    "os.path.exists(imgPath)"
   ]
  },
  {
   "cell_type": "markdown",
   "metadata": {},
   "source": [
    "### Registration"
   ]
  },
  {
   "cell_type": "code",
   "execution_count": 5,
   "metadata": {},
   "outputs": [
    {
     "name": "stdout",
     "output_type": "stream",
     "text": [
      "(128, 128)\n",
      "currently registering 1\n",
      "(1800, 128, 128)\n",
      "done\n",
      "(128, 128)\n",
      "currently registering 2\n",
      "(1800, 128, 128)\n",
      "done\n",
      "(128, 128)\n",
      "currently registering 3\n",
      "(1800, 128, 128)\n",
      "done\n",
      "(128, 128)\n",
      "currently registering 4\n",
      "(1800, 128, 128)\n",
      "done\n"
     ]
    }
   ],
   "source": [
    "algorithm = CrossCorr()\n",
    "for i in range(1,5):\n",
    "    \n",
    "    reference = tff.TiffFile(imgPath + date + '/' + 'Larva_' + str(i) + '/' + fov + '/summary/meanOfImg_080Hz.tif')\n",
    "    reference = reference.asarray()\n",
    "    reference = np.mean(reference, axis=0)\n",
    "    print (reference.shape)\n",
    "    sumPath = imgPath + date + '/' + 'Larva_' + str(i) + '/' + fov + '/tdtomato/'\n",
    "    imgFiles = glob(sumPath + '*.tif')\n",
    "    \n",
    "    data = tff.TiffFile(imgFiles[0])\n",
    "\n",
    "    print ('currently registering ' + str(i))\n",
    "    data = data.asarray()\n",
    "    print(data.shape)\n",
    "    model = algorithm.fit(data, reference)\n",
    "    registered = model.transform(data)\n",
    "    registered = registered.toarray()\n",
    "    mean = np.mean(registered,axis=0)\n",
    "    imsave(sumPath + '/mean.tif',mean.astype('float32'), plugin='tifffile', photometric='minisblack')\n",
    "    print('done')\n"
   ]
  },
  {
   "cell_type": "code",
   "execution_count": null,
   "metadata": {},
   "outputs": [],
   "source": []
  },
  {
   "cell_type": "code",
   "execution_count": null,
   "metadata": {},
   "outputs": [],
   "source": [
    "fig = plt.figure()\n",
    "plt.imshow(reference, cmap = 'gray')\n",
    "# fig.savefig('/Users/zhengj10/Desktop/jGCaMP7f_NMJ.png')\n",
    "plt.show()\n",
    "\n"
   ]
  },
  {
   "cell_type": "code",
   "execution_count": null,
   "metadata": {},
   "outputs": [],
   "source": [
    "# xStart = 150\n",
    "# xEnd = 400\n",
    "# yStart = 200\n",
    "# yEnd = 350\n",
    "\n",
    "xStart = 0\n",
    "xEnd = 127\n",
    "yStart = 40\n",
    "yEnd = 100\n",
    "\n",
    "vmin = reference.min() \n",
    "vmax = reference.max()\n",
    "\n",
    "from matplotlib import gridspec\n",
    "fig = plt.figure(figsize=(12, 6)) \n",
    "gs = gridspec.GridSpec(1, 2, width_ratios=[1, (xEnd-xStart)/512.0])\n",
    "ax0 = plt.subplot(gs[0])\n",
    "ax0.imshow(reference, cmap = 'gray', vmin = vmin, vmax = vmax)\n",
    "ax0.plot([yStart,yEnd,yEnd,yStart,yStart],[xEnd,xEnd,xStart,xStart,xEnd], 'y')\n",
    "ax1 = plt.subplot(gs[1])\n",
    "ax1.imshow(reference[xStart:xEnd, yStart:yEnd], cmap = 'gray', vmin = vmin, vmax = vmax)\n",
    "\n",
    "# plt.tight_layout()\n",
    "\n",
    "\n",
    "\n",
    "# plt.figure(figsize=(10,10))\n",
    "# plt.imshow(reference, cmap = 'gray', vmin = vmin, vmax = vmax)\n",
    "# plt.plot([yStart,yEnd,yEnd,yStart,yStart],[xEnd,xEnd,xStart,xStart,xEnd],'y')\n",
    "# plt.figure(figsize=(10,10))\n",
    "# plt.imshow(reference[xStart:xEnd, yStart:yEnd], cmap = 'gray', vmin = vmin, vmax = vmax)\n",
    "plt.show()\n"
   ]
  },
  {
   "cell_type": "code",
   "execution_count": null,
   "metadata": {},
   "outputs": [],
   "source": []
  },
  {
   "cell_type": "code",
   "execution_count": null,
   "metadata": {
    "scrolled": false
   },
   "outputs": [],
   "source": [
    "trialProtoc = { \n",
    "                5: '001Hz',\n",
    "               10: '005Hz',\n",
    "               15: '010Hz',\n",
    "               20: '020Hz',\n",
    "               25: '040Hz',\n",
    "               30: '080Hz',\n",
    "               35: '160Hz',\n",
    "               40: '240Hz',\n",
    "               45: '320Hz'\n",
    "              }\n",
    "\n",
    "sumPath = os.path.join(imgPath, 'summary')\n",
    "if not os.path.exists(sumPath):\n",
    "    os.makedirs(sumPath)\n",
    "\n",
    "algorithm = CrossCorr()\n",
    "\n",
    "meanOfImg = []\n",
    "# for trialNum in range(len(imgFiles)):\n",
    "for trialNum in range(35,40):\n",
    "    if trialNum+1 in badTrials:\n",
    "        continue\n",
    "    data = tff.TiffFile(imgFiles[trialNum])\n",
    "    print ('currently registering ' + str(trialNum+1))\n",
    "    data = data.asarray()\n",
    "    data = data[shutterCloseFrames:, :, :]\n",
    "    model = algorithm.fit(data[:, xStart:xEnd, yStart:yEnd], reference[xStart:xEnd, yStart:yEnd])\n",
    "    registered = model.transform(data)\n",
    "    registered = registered.toarray()\n",
    "    print (os.path.splitext(os.path.basename(imgFiles[trialNum]))[0] + '.tif Registered')\n",
    "    meanOfImg.append(registered)\n",
    "    if (trialNum+1)%5 == 0:\n",
    "\n",
    "        meanOfImg = np.mean(meanOfImg,axis=0)\n",
    "        print (meanOfImg.shape)\n",
    "        imsave(sumPath + '/meanOfImg_' + trialProtoc[trialNum+1] + '.tif', meanOfImg.astype('float32'), plugin='tifffile', photometric='minisblack')\n",
    "#         imsave(sumPath + '/meanOfImg_160Hz.tif', meanOfImg.astype('float32'), plugin='tifffile', photometric='minisblack')\n",
    "        meanOfImg = []\n",
    "        print  (trialProtoc[trialNum+1] + ' trials average image saved')\n",
    "print ('Trials averaging completed')\n"
   ]
  },
  {
   "cell_type": "code",
   "execution_count": null,
   "metadata": {},
   "outputs": [],
   "source": []
  },
  {
   "cell_type": "code",
   "execution_count": null,
   "metadata": {},
   "outputs": [],
   "source": []
  },
  {
   "cell_type": "code",
   "execution_count": null,
   "metadata": {},
   "outputs": [],
   "source": []
  },
  {
   "cell_type": "code",
   "execution_count": null,
   "metadata": {},
   "outputs": [],
   "source": []
  },
  {
   "cell_type": "code",
   "execution_count": null,
   "metadata": {},
   "outputs": [],
   "source": []
  }
 ],
 "metadata": {
  "kernelspec": {
   "display_name": "Python 3",
   "language": "python",
   "name": "python3"
  },
  "language_info": {
   "codemirror_mode": {
    "name": "ipython",
    "version": 3
   },
   "file_extension": ".py",
   "mimetype": "text/x-python",
   "name": "python",
   "nbconvert_exporter": "python",
   "pygments_lexer": "ipython3",
   "version": "3.7.6"
  }
 },
 "nbformat": 4,
 "nbformat_minor": 1
}
